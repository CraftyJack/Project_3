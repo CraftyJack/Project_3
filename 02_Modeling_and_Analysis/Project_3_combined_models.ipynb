{
 "cells": [
  {
   "cell_type": "markdown",
   "metadata": {},
   "source": [
    "# Project 3 Combined Models Notebook\n",
    "We used multiple notebooks for developing the models used here. Those notebooks include the iterative steps used to develop the models and select the features used for prediction. There's a lot of work there, and those notebooks run rather slowly. This is the streamlined version - we load the saved models, we load the saved feature lists, and then apply them to the cleaned, merged dataset and add the resulting predictions to that dataset as additional columns."
   ]
  },
  {
   "cell_type": "markdown",
   "metadata": {},
   "source": [
    "# Setup"
   ]
  },
  {
   "cell_type": "markdown",
   "metadata": {},
   "source": [
    "## Import Libraries"
   ]
  },
  {
   "cell_type": "code",
   "execution_count": 1,
   "metadata": {},
   "outputs": [],
   "source": [
    "import pandas as pd\n",
    "import os\n",
    "\n",
    "import joblib\n",
    "\n",
    "from feature_list_vault import site_model_features, score_model_features "
   ]
  },
  {
   "cell_type": "markdown",
   "metadata": {},
   "source": [
    "## Set File Locations"
   ]
  },
  {
   "cell_type": "code",
   "execution_count": 2,
   "metadata": {},
   "outputs": [],
   "source": [
    "# data for import\n",
    "import_data_csv = \"../00_Data/cleaned_data/cleaned_merged_data.csv\"\n",
    "\n",
    "# model for site score\n",
    "site_score_model_file = 'superfund_score_model.sav'\n",
    "\n",
    "# model for site probability\n",
    "site_probability_model_file = 'superfund_site_model.sav'\n",
    "\n",
    "# output file\n",
    "export_data_csv = \"../00_Data/cleaned_data/data_complete.csv\""
   ]
  },
  {
   "cell_type": "markdown",
   "metadata": {},
   "source": [
    "# Import Data"
   ]
  },
  {
   "cell_type": "code",
   "execution_count": 3,
   "metadata": {},
   "outputs": [],
   "source": [
    "# Import census data\n",
    "data_df = pd.read_csv(import_data_csv)"
   ]
  },
  {
   "cell_type": "markdown",
   "metadata": {},
   "source": [
    "# Generate Predictions"
   ]
  },
  {
   "cell_type": "markdown",
   "metadata": {},
   "source": [
    "## Load Models"
   ]
  },
  {
   "cell_type": "code",
   "execution_count": 4,
   "metadata": {},
   "outputs": [],
   "source": [
    "site_score_model = joblib.load(site_score_model_file)\n",
    "site_probability_model = joblib.load(site_probability_model_file)"
   ]
  },
  {
   "cell_type": "markdown",
   "metadata": {},
   "source": [
    "## Prepare input data"
   ]
  },
  {
   "cell_type": "code",
   "execution_count": 5,
   "metadata": {},
   "outputs": [],
   "source": [
    "site_probability_input = data_df.copy().loc[:, site_model_features]\n",
    "site_score_input = data_df.copy().loc[:, score_model_features]"
   ]
  },
  {
   "cell_type": "markdown",
   "metadata": {},
   "source": [
    "## Run Models"
   ]
  },
  {
   "cell_type": "code",
   "execution_count": 6,
   "metadata": {},
   "outputs": [],
   "source": [
    "site_presence_prediction = site_probability_model.predict_proba(site_probability_input)\n",
    "\n",
    "predicted_probabilities = []\n",
    "for i in range(0, len(site_presence_prediction)):\n",
    "    predicted_probabilities.append(site_presence_prediction[i][1])"
   ]
  },
  {
   "cell_type": "code",
   "execution_count": 7,
   "metadata": {},
   "outputs": [],
   "source": [
    "site_score_prediction = site_score_model.predict(site_score_input)"
   ]
  },
  {
   "cell_type": "markdown",
   "metadata": {},
   "source": [
    "## Build Results DF"
   ]
  },
  {
   "cell_type": "code",
   "execution_count": 8,
   "metadata": {},
   "outputs": [],
   "source": [
    "export_df = data_df.copy()\n",
    "export_df['site_probability'] = predicted_probabilities\n",
    "export_df['score_prediction'] = site_score_prediction"
   ]
  },
  {
   "cell_type": "markdown",
   "metadata": {},
   "source": [
    "# Export Results"
   ]
  },
  {
   "cell_type": "code",
   "execution_count": 9,
   "metadata": {},
   "outputs": [],
   "source": [
    "export_df.to_csv(export_data_csv, index = False)"
   ]
  }
 ],
 "metadata": {
  "kernelspec": {
   "display_name": "Python 3",
   "language": "python",
   "name": "python3"
  },
  "language_info": {
   "codemirror_mode": {
    "name": "ipython",
    "version": 3
   },
   "file_extension": ".py",
   "mimetype": "text/x-python",
   "name": "python",
   "nbconvert_exporter": "python",
   "pygments_lexer": "ipython3",
   "version": "3.7.7"
  }
 },
 "nbformat": 4,
 "nbformat_minor": 4
}
