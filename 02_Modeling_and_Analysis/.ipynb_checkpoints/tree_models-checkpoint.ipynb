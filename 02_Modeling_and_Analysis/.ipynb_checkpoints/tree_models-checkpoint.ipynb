{
 "cells": [
  {
   "cell_type": "markdown",
   "metadata": {},
   "source": [
    "# Tree Models for Project 3"
   ]
  },
  {
   "cell_type": "markdown",
   "metadata": {},
   "source": [
    "## Setup"
   ]
  },
  {
   "cell_type": "markdown",
   "metadata": {},
   "source": [
    "### Import Libraries"
   ]
  },
  {
   "cell_type": "code",
   "execution_count": 1,
   "metadata": {},
   "outputs": [],
   "source": [
    "import pandas as pd\n",
    "import os\n",
    "\n",
    "from sklearn.model_selection import train_test_split\n",
    "\n",
    "from sklearn import tree\n",
    "from sklearn.ensemble import RandomForestClassifier\n",
    "\n",
    "from sklearn.metrics import classification_report\n",
    "\n",
    "from operator import itemgetter"
   ]
  },
  {
   "cell_type": "markdown",
   "metadata": {},
   "source": [
    "### Set File Locations"
   ]
  },
  {
   "cell_type": "code",
   "execution_count": 2,
   "metadata": {},
   "outputs": [],
   "source": [
    "# note that some of the raw data files are very large\n",
    "# these very large files are located in a gitignored directory.\n",
    "\n",
    "# cleaned, merged data\n",
    "merged_data_csv = \"../00_Data/cleaned_data/cleaned_merged_data.csv\"\n",
    "\n",
    "# data with site predictions\n",
    "export_data_csv = \"../00_Data/cleaned_data/data_with_site_predictions.csv\""
   ]
  },
  {
   "cell_type": "markdown",
   "metadata": {},
   "source": [
    "## Import Data"
   ]
  },
  {
   "cell_type": "code",
   "execution_count": 3,
   "metadata": {},
   "outputs": [
    {
     "name": "stdout",
     "output_type": "stream",
     "text": [
      "<class 'pandas.core.frame.DataFrame'>\n",
      "RangeIndex: 220423 entries, 0 to 220422\n",
      "Data columns (total 240 columns):\n",
      " #   Column                            Non-Null Count   Dtype  \n",
      "---  ------                            --------------   -----  \n",
      " 0   fips_block_group                  220423 non-null  int64  \n",
      " 1   state                             220423 non-null  float64\n",
      " 2   state_name                        220423 non-null  object \n",
      " 3   county                            220423 non-null  float64\n",
      " 4   county_name                       220423 non-null  object \n",
      " 5   tract                             220423 non-null  float64\n",
      " 6   block_group                       220423 non-null  float64\n",
      " 7   flag                              220423 non-null  float64\n",
      " 8   land_area                         220423 non-null  float64\n",
      " 9   aian_land                         220423 non-null  float64\n",
      " 10  urbanized_area_pop_cen_2010       220423 non-null  float64\n",
      " 11  urban_cluster_pop_cen_2010        220423 non-null  float64\n",
      " 12  rural_pop_cen_2010                220423 non-null  float64\n",
      " 13  tot_population_cen_2010           220423 non-null  float64\n",
      " 14  tot_population_acs_09_13          220423 non-null  float64\n",
      " 15  males_cen_2010                    220423 non-null  float64\n",
      " 16  males_acs_09_13                   220423 non-null  float64\n",
      " 17  females_cen_2010                  220423 non-null  float64\n",
      " 18  females_acs_09_13                 220423 non-null  float64\n",
      " 19  pop_under_5_cen_2010              220423 non-null  float64\n",
      " 20  pop_under_5_acs_09_13             220423 non-null  float64\n",
      " 21  pop_5_17_cen_2010                 220423 non-null  float64\n",
      " 22  pop_5_17_acs_09_13                220423 non-null  float64\n",
      " 23  pop_18_24_cen_2010                220423 non-null  float64\n",
      " 24  pop_18_24_acs_09_13               220423 non-null  float64\n",
      " 25  pop_25_44_cen_2010                220423 non-null  float64\n",
      " 26  pop_25_44_acs_09_13               220423 non-null  float64\n",
      " 27  pop_45_64_cen_2010                220423 non-null  float64\n",
      " 28  pop_45_64_acs_09_13               220423 non-null  float64\n",
      " 29  pop_65plus_cen_2010               220423 non-null  float64\n",
      " 30  pop_65plus_acs_09_13              220423 non-null  float64\n",
      " 31  tot_gq_cen_2010                   220423 non-null  float64\n",
      " 32  inst_gq_cen_2010                  220423 non-null  float64\n",
      " 33  non_inst_gq_cen_2010              220423 non-null  float64\n",
      " 34  hispanic_cen_2010                 220423 non-null  float64\n",
      " 35  hispanic_acs_09_13                220423 non-null  float64\n",
      " 36  nh_white_alone_cen_2010           220423 non-null  float64\n",
      " 37  nh_white_alone_acs_09_13          220423 non-null  float64\n",
      " 38  nh_blk_alone_cen_2010             220423 non-null  float64\n",
      " 39  nh_blk_alone_acs_09_13            220423 non-null  float64\n",
      " 40  nh_aian_alone_cen_2010            220423 non-null  float64\n",
      " 41  nh_aian_alone_acs_09_13           220423 non-null  float64\n",
      " 42  nh_asian_alone_cen_2010           220423 non-null  float64\n",
      " 43  nh_asian_alone_acs_09_13          220423 non-null  float64\n",
      " 44  nh_nhopi_alone_cen_2010           220423 non-null  float64\n",
      " 45  nh_nhopi_alone_acs_09_13          220423 non-null  float64\n",
      " 46  nh_sor_alone_cen_2010             220423 non-null  float64\n",
      " 47  nh_sor_alone_acs_09_13            220423 non-null  float64\n",
      " 48  pop_5yrs_over_acs_09_13           220423 non-null  float64\n",
      " 49  othr_lang_acs_09_13               220423 non-null  float64\n",
      " 50  pop_25yrs_over_acs_09_13          220423 non-null  float64\n",
      " 51  not_hs_grad_acs_09_13             220423 non-null  float64\n",
      " 52  college_acs_09_13                 220423 non-null  float64\n",
      " 53  pov_univ_acs_09_13                220423 non-null  float64\n",
      " 54  prs_blw_pov_lev_acs_09_13         220423 non-null  float64\n",
      " 55  one_health_ins_acs_09_13          220423 non-null  float64\n",
      " 56  two_plus_health_ins_acs_09_13     220423 non-null  float64\n",
      " 57  no_health_ins_acs_09_13           220423 non-null  float64\n",
      " 58  pop_1yr_over_acs_09_13            220423 non-null  float64\n",
      " 59  diff_hu_1yr_ago_acs_09_13         220423 non-null  float64\n",
      " 60  eng_vw_span_acs_09_13             220423 non-null  float64\n",
      " 61  eng_vw_indo_euro_acs_09_13        220423 non-null  float64\n",
      " 62  eng_vw_api_acs_09_13              220423 non-null  float64\n",
      " 63  eng_vw_other_acs_09_13            220423 non-null  float64\n",
      " 64  eng_vw_acs_09_13                  220423 non-null  float64\n",
      " 65  rel_family_hhds_cen_2010          220423 non-null  float64\n",
      " 66  rel_family_hhd_acs_09_13          220423 non-null  float64\n",
      " 67  mrdcple_fmly_hhd_cen_2010         220423 non-null  float64\n",
      " 68  mrdcple_fmly_hhd_acs_09_13        220423 non-null  float64\n",
      " 69  not_mrdcple_hhd_cen_2010          220423 non-null  float64\n",
      " 70  not_mrdcple_hhd_acs_09_13         220423 non-null  float64\n",
      " 71  female_no_hb_cen_2010             220423 non-null  float64\n",
      " 72  female_no_hb_acs_09_13            220423 non-null  float64\n",
      " 73  nonfamily_hhd_cen_2010            220423 non-null  float64\n",
      " 74  nonfamily_hhd_acs_09_13           220423 non-null  float64\n",
      " 75  sngl_prns_hhd_cen_2010            220423 non-null  float64\n",
      " 76  sngl_prns_hhd_acs_09_13           220423 non-null  float64\n",
      " 77  hhd_ppl_und_18_cen_2010           220423 non-null  float64\n",
      " 78  hhd_ppl_und_18_acs_09_13          220423 non-null  float64\n",
      " 79  tot_prns_in_hhd_cen_2010          220423 non-null  float64\n",
      " 80  tot_prns_in_hhd_acs_09_13         220423 non-null  float64\n",
      " 81  rel_child_under_6_cen_2010        220423 non-null  float64\n",
      " 82  rel_child_under_6_acs_09_13       220423 non-null  float64\n",
      " 83  hhd_moved_in_acs_09_13            220423 non-null  float64\n",
      " 84  pub_asst_inc_acs_09_13            220423 non-null  float64\n",
      " 85  med_hhd_inc_bg_acs_09_13          220423 non-null  float64\n",
      " 86  med_hhd_inc_tr_acs_09_13          220423 non-null  float64\n",
      " 87  aggregate_hh_inc_acs_09_13        220423 non-null  float64\n",
      " 88  tot_housing_units_cen_2010        220423 non-null  float64\n",
      " 89  tot_housing_units_acs_09_13       220423 non-null  float64\n",
      " 90  tot_occp_units_cen_2010           220423 non-null  float64\n",
      " 91  tot_occp_units_acs_09_13          220423 non-null  float64\n",
      " 92  tot_vacant_units_cen_2010         220423 non-null  float64\n",
      " 93  tot_vacant_units_acs_09_13        220423 non-null  float64\n",
      " 94  renter_occp_hu_cen_2010           220423 non-null  float64\n",
      " 95  renter_occp_hu_acs_09_13          220423 non-null  float64\n",
      " 96  owner_occp_hu_cen_2010            220423 non-null  float64\n",
      " 97  owner_occp_hu_acs_09_13           220423 non-null  float64\n",
      " 98  single_unit_acs_09_13             220423 non-null  float64\n",
      " 99  mlt_u2_9_strc_acs_09_13           220423 non-null  float64\n",
      " 100 mlt_u10p_acs_09_13                220423 non-null  float64\n",
      " 101 mobile_homes_acs_09_13            220423 non-null  float64\n",
      " 102 crowd_occp_u_acs_09_13            220423 non-null  float64\n",
      " 103 occp_u_no_ph_srvc_acs_09_13       220423 non-null  float64\n",
      " 104 no_plumb_acs_09_13                220423 non-null  float64\n",
      " 105 recent_built_hu_acs_09_13         220423 non-null  float64\n",
      " 106 med_house_value_bg_acs_09_13      220423 non-null  float64\n",
      " 107 med_house_value_tr_acs_09_13      220423 non-null  float64\n",
      " 108 aggr_house_value_acs_09_13        220423 non-null  float64\n",
      " 109 mailback_area_count_cen_2010      220423 non-null  float64\n",
      " 110 tea_mail_out_mail_back_cen_2010   220423 non-null  float64\n",
      " 111 tea_update_leave_cen_2010         220423 non-null  float64\n",
      " 112 census_mail_returns_cen_2010      220423 non-null  float64\n",
      " 113 vacants_cen_2010                  220423 non-null  float64\n",
      " 114 deletes_cen_2010                  220423 non-null  float64\n",
      " 115 census_uaa_cen_2010               220423 non-null  float64\n",
      " 116 valid_mailback_count_cen_2010     220423 non-null  float64\n",
      " 117 frst_frms_cen_2010                220423 non-null  float64\n",
      " 118 rplcmnt_frms_cen_2010             220423 non-null  float64\n",
      " 119 bilq_mailout_count_cen_2010       220423 non-null  float64\n",
      " 120 bilq_frms_cen_2010                220423 non-null  float64\n",
      " 121 mail_return_rate_cen_2010         220423 non-null  float64\n",
      " 122 low_response_score                220423 non-null  float64\n",
      " 123 pct_urbanized_area_pop_cen_2010   220423 non-null  float64\n",
      " 124 pct_urban_cluster_pop_cen_2010    220423 non-null  float64\n",
      " 125 pct_rural_pop_cen_2010            220423 non-null  float64\n",
      " 126 pct_males_cen_2010                220423 non-null  float64\n",
      " 127 pct_males_acs_09_13               220423 non-null  float64\n",
      " 128 pct_females_cen_2010              220423 non-null  float64\n",
      " 129 pct_females_acs_09_13             220423 non-null  float64\n",
      " 130 pct_pop_under_5_cen_2010          220423 non-null  float64\n",
      " 131 pct_pop_under_5_acs_09_13         220423 non-null  float64\n",
      " 132 pct_pop_5_17_cen_2010             220423 non-null  float64\n",
      " 133 pct_pop_5_17_acs_09_13            220423 non-null  float64\n",
      " 134 pct_pop_18_24_cen_2010            220423 non-null  float64\n",
      " 135 pct_pop_18_24_acs_09_13           220423 non-null  float64\n",
      " 136 pct_pop_25_44_cen_2010            220423 non-null  float64\n",
      " 137 pct_pop_25_44_acs_09_13           220423 non-null  float64\n",
      " 138 pct_pop_45_64_cen_2010            220423 non-null  float64\n",
      " 139 pct_pop_45_64_acs_09_13           220423 non-null  float64\n",
      " 140 pct_pop_65plus_cen_2010           220423 non-null  float64\n",
      " 141 pct_pop_65plus_acs_09_13          220423 non-null  float64\n",
      " 142 pct_tot_gq_cen_2010               220423 non-null  float64\n",
      " 143 pct_inst_gq_cen_2010              220423 non-null  float64\n",
      " 144 pct_non_inst_gq_cen_2010          220423 non-null  float64\n",
      " 145 pct_hispanic_cen_2010             220423 non-null  float64\n",
      " 146 pct_hispanic_acs_09_13            220423 non-null  float64\n",
      " 147 pct_nh_white_alone_cen_2010       220423 non-null  float64\n",
      " 148 pct_nh_white_alone_acs_09_13      220423 non-null  float64\n",
      " 149 pct_nh_blk_alone_cen_2010         220423 non-null  float64\n",
      " 150 pct_nh_blk_alone_acs_09_13        220423 non-null  float64\n",
      " 151 pct_nh_aian_alone_cen_2010        220423 non-null  float64\n",
      " 152 pct_nh_aian_alone_acs_09_13       220423 non-null  float64\n",
      " 153 pct_nh_asian_alone_cen_2010       220423 non-null  float64\n",
      " 154 pct_nh_asian_alone_acs_09_13      220423 non-null  float64\n",
      " 155 pct_nh_nhopi_alone_cen_2010       220423 non-null  float64\n",
      " 156 pct_nh_nhopi_alone_acs_09_13      220423 non-null  float64\n",
      " 157 pct_nh_sor_alone_cen_2010         220423 non-null  float64\n",
      " 158 pct_nh_sor_alone_acs_09_13        220423 non-null  float64\n",
      " 159 pct_pop_5yrs_over_acs_09_13       220423 non-null  float64\n",
      " 160 pct_othr_lang_acs_09_13           220423 non-null  float64\n",
      " 161 pct_pop_25yrs_over_acs_09_13      220423 non-null  float64\n",
      " 162 pct_not_hs_grad_acs_09_13         220423 non-null  float64\n",
      " 163 pct_college_acs_09_13             220423 non-null  float64\n",
      " 164 pct_prs_blw_pov_lev_acs_09_13     220423 non-null  float64\n",
      " 165 pct_one_health_ins_acs_09_13      220423 non-null  float64\n",
      " 166 pct_twophealth_ins_acs_09_13      220423 non-null  float64\n",
      " 167 pct_no_health_ins_acs_09_13       220423 non-null  float64\n",
      " 168 pct_pov_univ_acs_09_13            220423 non-null  float64\n",
      " 169 pct_pop_1yr_over_acs_09_13        220423 non-null  float64\n",
      " 170 pct_diff_hu_1yr_ago_acs_09_13     220423 non-null  float64\n",
      " 171 pct_eng_vw_span_acs_09_13         220423 non-null  float64\n",
      " 172 pct_eng_vw_indoeuro_acs_09_13     220423 non-null  float64\n",
      " 173 pct_eng_vw_api_acs_09_13          220423 non-null  float64\n",
      " 174 pct_eng_vw_other_acs_09_13        220423 non-null  float64\n",
      " 175 pct_eng_vw_acs_09_13              220423 non-null  float64\n",
      " 176 pct_rel_family_hhds_cen_2010      220423 non-null  float64\n",
      " 177 pct_rel_family_hhd_acs_09_13      220423 non-null  float64\n",
      " 178 pct_mrdcple_hhd_cen_2010          220423 non-null  float64\n",
      " 179 pct_mrdcple_hhd_acs_09_13         220423 non-null  float64\n",
      " 180 pct_not_mrdcple_hhd_cen_2010      220423 non-null  float64\n",
      " 181 pct_not_mrdcple_hhd_acs_09_13     220423 non-null  float64\n",
      " 182 pct_female_no_hb_cen_2010         220423 non-null  float64\n",
      " 183 pct_female_no_hb_acs_09_13        220423 non-null  float64\n",
      " 184 pct_nonfamily_hhd_cen_2010        220423 non-null  float64\n",
      " 185 pct_nonfamily_hhd_acs_09_13       220423 non-null  float64\n",
      " 186 pct_sngl_prns_hhd_cen_2010        220423 non-null  float64\n",
      " 187 pct_sngl_prns_hhd_acs_09_13       220423 non-null  float64\n",
      " 188 pct_hhd_ppl_und_18_cen_2010       220423 non-null  float64\n",
      " 189 pct_hhd_ppl_und_18_acs_09_13      220423 non-null  float64\n",
      " 190 avg_tot_prns_in_hhd_cen_2010      220423 non-null  float64\n",
      " 191 avg_tot_prns_in_hhd_acs_09_13     220423 non-null  float64\n",
      " 192 pct_rel_under_6_cen_2010          220423 non-null  float64\n",
      " 193 pct_rel_under_6_acs_09_13         220423 non-null  float64\n",
      " 194 pct_hhd_moved_in_acs_09_13        220423 non-null  float64\n",
      " 195 pct_pub_asst_inc_acs_09_13        220423 non-null  float64\n",
      " 196 avg_agg_hh_inc_acs_09_13          220423 non-null  float64\n",
      " 197 pct_tot_occp_units_cen_2010       220423 non-null  float64\n",
      " 198 pct_tot_occp_units_acs_09_13      220423 non-null  float64\n",
      " 199 pct_vacant_units_cen_2010         220423 non-null  float64\n",
      " 200 pct_vacant_units_acs_09_13        220423 non-null  float64\n",
      " 201 pct_renter_occp_hu_cen_2010       220423 non-null  float64\n",
      " 202 pct_renter_occp_hu_acs_09_13      220423 non-null  float64\n",
      " 203 pct_owner_occp_hu_cen_2010        220423 non-null  float64\n",
      " 204 pct_owner_occp_hu_acs_09_13       220423 non-null  float64\n",
      " 205 pct_single_unit_acs_09_13         220423 non-null  float64\n",
      " 206 pct_mlt_u2_9_strc_acs_09_13       220423 non-null  float64\n",
      " 207 pct_mlt_u10p_acs_09_13            220423 non-null  float64\n",
      " 208 pct_mobile_homes_acs_09_13        220423 non-null  float64\n",
      " 209 pct_crowd_occp_u_acs_09_13        220423 non-null  float64\n",
      " 210 pct_no_ph_srvc_acs_09_13          220423 non-null  float64\n",
      " 211 pct_no_plumb_acs_09_13            220423 non-null  float64\n",
      " 212 pct_recent_built_hu_acs_09_13     220423 non-null  float64\n",
      " 213 avg_agg_house_value_acs_09_13     220423 non-null  float64\n",
      " 214 pct_tea_mailoutmailback_cen_2010  220423 non-null  float64\n",
      " 215 pct_tea_update_leave_cen_2010     220423 non-null  float64\n",
      " 216 pct_census_mail_returns_cen_2010  220423 non-null  float64\n",
      " 217 pct_vacant_cen_2010               220423 non-null  float64\n",
      " 218 pct_deletes_cen_2010              220423 non-null  float64\n",
      " 219 pct_census_uaa_cen_2010           220423 non-null  float64\n",
      " 220 pct_mailback_count_cen_2010       220423 non-null  float64\n",
      " 221 pct_frst_frms_cen_2010            220423 non-null  float64\n",
      " 222 pct_rplcmnt_frms_cen_2010         220423 non-null  float64\n",
      " 223 pct_bilq_mailout_count_cen_2010   220423 non-null  float64\n",
      " 224 has_superfund                     220423 non-null  float64\n",
      " 225 fips_full                         220423 non-null  float64\n",
      " 226 address                           220423 non-null  object \n",
      " 227 city                              220423 non-null  object \n",
      " 228 date_added                        220423 non-null  object \n",
      " 229 federal_facility_ind              220423 non-null  object \n",
      " 230 federal_register_url              220423 non-null  object \n",
      " 231 geocode_source                    220423 non-null  object \n",
      " 232 latitude                          220423 non-null  float64\n",
      " 233 longitude                         220423 non-null  float64\n",
      " 234 site_epa_id                       220423 non-null  object \n",
      " 235 site_name                         220423 non-null  object \n",
      " 236 site_narrative_url                220423 non-null  object \n",
      " 237 site_progress_url                 220423 non-null  object \n",
      " 238 site_score                        220423 non-null  float64\n",
      " 239 site_text                         220423 non-null  object \n",
      "dtypes: float64(226), int64(1), object(13)\n",
      "memory usage: 403.6+ MB\n"
     ]
    }
   ],
   "source": [
    "# Import census data\n",
    "data_df = pd.read_csv(merged_data_csv)\n",
    "\n",
    "data_df.info(verbose = True, null_counts = True)"
   ]
  },
  {
   "cell_type": "markdown",
   "metadata": {},
   "source": [
    "## Prep Data"
   ]
  },
  {
   "cell_type": "code",
   "execution_count": 4,
   "metadata": {},
   "outputs": [],
   "source": [
    "# Prepare the target\n",
    "target = data_df[\"has_superfund\"]\n",
    "target_names = [\"negative\", \"positive\"]"
   ]
  },
  {
   "cell_type": "code",
   "execution_count": 5,
   "metadata": {},
   "outputs": [
    {
     "name": "stdout",
     "output_type": "stream",
     "text": [
      "<class 'pandas.core.frame.DataFrame'>\n",
      "RangeIndex: 220423 entries, 0 to 220422\n",
      "Data columns (total 217 columns):\n",
      " #   Column                            Non-Null Count   Dtype  \n",
      "---  ------                            --------------   -----  \n",
      " 0   flag                              220423 non-null  float64\n",
      " 1   land_area                         220423 non-null  float64\n",
      " 2   aian_land                         220423 non-null  float64\n",
      " 3   urbanized_area_pop_cen_2010       220423 non-null  float64\n",
      " 4   urban_cluster_pop_cen_2010        220423 non-null  float64\n",
      " 5   rural_pop_cen_2010                220423 non-null  float64\n",
      " 6   tot_population_cen_2010           220423 non-null  float64\n",
      " 7   tot_population_acs_09_13          220423 non-null  float64\n",
      " 8   males_cen_2010                    220423 non-null  float64\n",
      " 9   males_acs_09_13                   220423 non-null  float64\n",
      " 10  females_cen_2010                  220423 non-null  float64\n",
      " 11  females_acs_09_13                 220423 non-null  float64\n",
      " 12  pop_under_5_cen_2010              220423 non-null  float64\n",
      " 13  pop_under_5_acs_09_13             220423 non-null  float64\n",
      " 14  pop_5_17_cen_2010                 220423 non-null  float64\n",
      " 15  pop_5_17_acs_09_13                220423 non-null  float64\n",
      " 16  pop_18_24_cen_2010                220423 non-null  float64\n",
      " 17  pop_18_24_acs_09_13               220423 non-null  float64\n",
      " 18  pop_25_44_cen_2010                220423 non-null  float64\n",
      " 19  pop_25_44_acs_09_13               220423 non-null  float64\n",
      " 20  pop_45_64_cen_2010                220423 non-null  float64\n",
      " 21  pop_45_64_acs_09_13               220423 non-null  float64\n",
      " 22  pop_65plus_cen_2010               220423 non-null  float64\n",
      " 23  pop_65plus_acs_09_13              220423 non-null  float64\n",
      " 24  tot_gq_cen_2010                   220423 non-null  float64\n",
      " 25  inst_gq_cen_2010                  220423 non-null  float64\n",
      " 26  non_inst_gq_cen_2010              220423 non-null  float64\n",
      " 27  hispanic_cen_2010                 220423 non-null  float64\n",
      " 28  hispanic_acs_09_13                220423 non-null  float64\n",
      " 29  nh_white_alone_cen_2010           220423 non-null  float64\n",
      " 30  nh_white_alone_acs_09_13          220423 non-null  float64\n",
      " 31  nh_blk_alone_cen_2010             220423 non-null  float64\n",
      " 32  nh_blk_alone_acs_09_13            220423 non-null  float64\n",
      " 33  nh_aian_alone_cen_2010            220423 non-null  float64\n",
      " 34  nh_aian_alone_acs_09_13           220423 non-null  float64\n",
      " 35  nh_asian_alone_cen_2010           220423 non-null  float64\n",
      " 36  nh_asian_alone_acs_09_13          220423 non-null  float64\n",
      " 37  nh_nhopi_alone_cen_2010           220423 non-null  float64\n",
      " 38  nh_nhopi_alone_acs_09_13          220423 non-null  float64\n",
      " 39  nh_sor_alone_cen_2010             220423 non-null  float64\n",
      " 40  nh_sor_alone_acs_09_13            220423 non-null  float64\n",
      " 41  pop_5yrs_over_acs_09_13           220423 non-null  float64\n",
      " 42  othr_lang_acs_09_13               220423 non-null  float64\n",
      " 43  pop_25yrs_over_acs_09_13          220423 non-null  float64\n",
      " 44  not_hs_grad_acs_09_13             220423 non-null  float64\n",
      " 45  college_acs_09_13                 220423 non-null  float64\n",
      " 46  pov_univ_acs_09_13                220423 non-null  float64\n",
      " 47  prs_blw_pov_lev_acs_09_13         220423 non-null  float64\n",
      " 48  one_health_ins_acs_09_13          220423 non-null  float64\n",
      " 49  two_plus_health_ins_acs_09_13     220423 non-null  float64\n",
      " 50  no_health_ins_acs_09_13           220423 non-null  float64\n",
      " 51  pop_1yr_over_acs_09_13            220423 non-null  float64\n",
      " 52  diff_hu_1yr_ago_acs_09_13         220423 non-null  float64\n",
      " 53  eng_vw_span_acs_09_13             220423 non-null  float64\n",
      " 54  eng_vw_indo_euro_acs_09_13        220423 non-null  float64\n",
      " 55  eng_vw_api_acs_09_13              220423 non-null  float64\n",
      " 56  eng_vw_other_acs_09_13            220423 non-null  float64\n",
      " 57  eng_vw_acs_09_13                  220423 non-null  float64\n",
      " 58  rel_family_hhds_cen_2010          220423 non-null  float64\n",
      " 59  rel_family_hhd_acs_09_13          220423 non-null  float64\n",
      " 60  mrdcple_fmly_hhd_cen_2010         220423 non-null  float64\n",
      " 61  mrdcple_fmly_hhd_acs_09_13        220423 non-null  float64\n",
      " 62  not_mrdcple_hhd_cen_2010          220423 non-null  float64\n",
      " 63  not_mrdcple_hhd_acs_09_13         220423 non-null  float64\n",
      " 64  female_no_hb_cen_2010             220423 non-null  float64\n",
      " 65  female_no_hb_acs_09_13            220423 non-null  float64\n",
      " 66  nonfamily_hhd_cen_2010            220423 non-null  float64\n",
      " 67  nonfamily_hhd_acs_09_13           220423 non-null  float64\n",
      " 68  sngl_prns_hhd_cen_2010            220423 non-null  float64\n",
      " 69  sngl_prns_hhd_acs_09_13           220423 non-null  float64\n",
      " 70  hhd_ppl_und_18_cen_2010           220423 non-null  float64\n",
      " 71  hhd_ppl_und_18_acs_09_13          220423 non-null  float64\n",
      " 72  tot_prns_in_hhd_cen_2010          220423 non-null  float64\n",
      " 73  tot_prns_in_hhd_acs_09_13         220423 non-null  float64\n",
      " 74  rel_child_under_6_cen_2010        220423 non-null  float64\n",
      " 75  rel_child_under_6_acs_09_13       220423 non-null  float64\n",
      " 76  hhd_moved_in_acs_09_13            220423 non-null  float64\n",
      " 77  pub_asst_inc_acs_09_13            220423 non-null  float64\n",
      " 78  med_hhd_inc_bg_acs_09_13          220423 non-null  float64\n",
      " 79  med_hhd_inc_tr_acs_09_13          220423 non-null  float64\n",
      " 80  aggregate_hh_inc_acs_09_13        220423 non-null  float64\n",
      " 81  tot_housing_units_cen_2010        220423 non-null  float64\n",
      " 82  tot_housing_units_acs_09_13       220423 non-null  float64\n",
      " 83  tot_occp_units_cen_2010           220423 non-null  float64\n",
      " 84  tot_occp_units_acs_09_13          220423 non-null  float64\n",
      " 85  tot_vacant_units_cen_2010         220423 non-null  float64\n",
      " 86  tot_vacant_units_acs_09_13        220423 non-null  float64\n",
      " 87  renter_occp_hu_cen_2010           220423 non-null  float64\n",
      " 88  renter_occp_hu_acs_09_13          220423 non-null  float64\n",
      " 89  owner_occp_hu_cen_2010            220423 non-null  float64\n",
      " 90  owner_occp_hu_acs_09_13           220423 non-null  float64\n",
      " 91  single_unit_acs_09_13             220423 non-null  float64\n",
      " 92  mlt_u2_9_strc_acs_09_13           220423 non-null  float64\n",
      " 93  mlt_u10p_acs_09_13                220423 non-null  float64\n",
      " 94  mobile_homes_acs_09_13            220423 non-null  float64\n",
      " 95  crowd_occp_u_acs_09_13            220423 non-null  float64\n",
      " 96  occp_u_no_ph_srvc_acs_09_13       220423 non-null  float64\n",
      " 97  no_plumb_acs_09_13                220423 non-null  float64\n",
      " 98  recent_built_hu_acs_09_13         220423 non-null  float64\n",
      " 99  med_house_value_bg_acs_09_13      220423 non-null  float64\n",
      " 100 med_house_value_tr_acs_09_13      220423 non-null  float64\n",
      " 101 aggr_house_value_acs_09_13        220423 non-null  float64\n",
      " 102 mailback_area_count_cen_2010      220423 non-null  float64\n",
      " 103 tea_mail_out_mail_back_cen_2010   220423 non-null  float64\n",
      " 104 tea_update_leave_cen_2010         220423 non-null  float64\n",
      " 105 census_mail_returns_cen_2010      220423 non-null  float64\n",
      " 106 vacants_cen_2010                  220423 non-null  float64\n",
      " 107 deletes_cen_2010                  220423 non-null  float64\n",
      " 108 census_uaa_cen_2010               220423 non-null  float64\n",
      " 109 valid_mailback_count_cen_2010     220423 non-null  float64\n",
      " 110 frst_frms_cen_2010                220423 non-null  float64\n",
      " 111 rplcmnt_frms_cen_2010             220423 non-null  float64\n",
      " 112 bilq_mailout_count_cen_2010       220423 non-null  float64\n",
      " 113 bilq_frms_cen_2010                220423 non-null  float64\n",
      " 114 mail_return_rate_cen_2010         220423 non-null  float64\n",
      " 115 low_response_score                220423 non-null  float64\n",
      " 116 pct_urbanized_area_pop_cen_2010   220423 non-null  float64\n",
      " 117 pct_urban_cluster_pop_cen_2010    220423 non-null  float64\n",
      " 118 pct_rural_pop_cen_2010            220423 non-null  float64\n",
      " 119 pct_males_cen_2010                220423 non-null  float64\n",
      " 120 pct_males_acs_09_13               220423 non-null  float64\n",
      " 121 pct_females_cen_2010              220423 non-null  float64\n",
      " 122 pct_females_acs_09_13             220423 non-null  float64\n",
      " 123 pct_pop_under_5_cen_2010          220423 non-null  float64\n",
      " 124 pct_pop_under_5_acs_09_13         220423 non-null  float64\n",
      " 125 pct_pop_5_17_cen_2010             220423 non-null  float64\n",
      " 126 pct_pop_5_17_acs_09_13            220423 non-null  float64\n",
      " 127 pct_pop_18_24_cen_2010            220423 non-null  float64\n",
      " 128 pct_pop_18_24_acs_09_13           220423 non-null  float64\n",
      " 129 pct_pop_25_44_cen_2010            220423 non-null  float64\n",
      " 130 pct_pop_25_44_acs_09_13           220423 non-null  float64\n",
      " 131 pct_pop_45_64_cen_2010            220423 non-null  float64\n",
      " 132 pct_pop_45_64_acs_09_13           220423 non-null  float64\n",
      " 133 pct_pop_65plus_cen_2010           220423 non-null  float64\n",
      " 134 pct_pop_65plus_acs_09_13          220423 non-null  float64\n",
      " 135 pct_tot_gq_cen_2010               220423 non-null  float64\n",
      " 136 pct_inst_gq_cen_2010              220423 non-null  float64\n",
      " 137 pct_non_inst_gq_cen_2010          220423 non-null  float64\n",
      " 138 pct_hispanic_cen_2010             220423 non-null  float64\n",
      " 139 pct_hispanic_acs_09_13            220423 non-null  float64\n",
      " 140 pct_nh_white_alone_cen_2010       220423 non-null  float64\n",
      " 141 pct_nh_white_alone_acs_09_13      220423 non-null  float64\n",
      " 142 pct_nh_blk_alone_cen_2010         220423 non-null  float64\n",
      " 143 pct_nh_blk_alone_acs_09_13        220423 non-null  float64\n",
      " 144 pct_nh_aian_alone_cen_2010        220423 non-null  float64\n",
      " 145 pct_nh_aian_alone_acs_09_13       220423 non-null  float64\n",
      " 146 pct_nh_asian_alone_cen_2010       220423 non-null  float64\n",
      " 147 pct_nh_asian_alone_acs_09_13      220423 non-null  float64\n",
      " 148 pct_nh_nhopi_alone_cen_2010       220423 non-null  float64\n",
      " 149 pct_nh_nhopi_alone_acs_09_13      220423 non-null  float64\n",
      " 150 pct_nh_sor_alone_cen_2010         220423 non-null  float64\n",
      " 151 pct_nh_sor_alone_acs_09_13        220423 non-null  float64\n",
      " 152 pct_pop_5yrs_over_acs_09_13       220423 non-null  float64\n",
      " 153 pct_othr_lang_acs_09_13           220423 non-null  float64\n",
      " 154 pct_pop_25yrs_over_acs_09_13      220423 non-null  float64\n",
      " 155 pct_not_hs_grad_acs_09_13         220423 non-null  float64\n",
      " 156 pct_college_acs_09_13             220423 non-null  float64\n",
      " 157 pct_prs_blw_pov_lev_acs_09_13     220423 non-null  float64\n",
      " 158 pct_one_health_ins_acs_09_13      220423 non-null  float64\n",
      " 159 pct_twophealth_ins_acs_09_13      220423 non-null  float64\n",
      " 160 pct_no_health_ins_acs_09_13       220423 non-null  float64\n",
      " 161 pct_pov_univ_acs_09_13            220423 non-null  float64\n",
      " 162 pct_pop_1yr_over_acs_09_13        220423 non-null  float64\n",
      " 163 pct_diff_hu_1yr_ago_acs_09_13     220423 non-null  float64\n",
      " 164 pct_eng_vw_span_acs_09_13         220423 non-null  float64\n",
      " 165 pct_eng_vw_indoeuro_acs_09_13     220423 non-null  float64\n",
      " 166 pct_eng_vw_api_acs_09_13          220423 non-null  float64\n",
      " 167 pct_eng_vw_other_acs_09_13        220423 non-null  float64\n",
      " 168 pct_eng_vw_acs_09_13              220423 non-null  float64\n",
      " 169 pct_rel_family_hhds_cen_2010      220423 non-null  float64\n",
      " 170 pct_rel_family_hhd_acs_09_13      220423 non-null  float64\n",
      " 171 pct_mrdcple_hhd_cen_2010          220423 non-null  float64\n",
      " 172 pct_mrdcple_hhd_acs_09_13         220423 non-null  float64\n",
      " 173 pct_not_mrdcple_hhd_cen_2010      220423 non-null  float64\n",
      " 174 pct_not_mrdcple_hhd_acs_09_13     220423 non-null  float64\n",
      " 175 pct_female_no_hb_cen_2010         220423 non-null  float64\n",
      " 176 pct_female_no_hb_acs_09_13        220423 non-null  float64\n",
      " 177 pct_nonfamily_hhd_cen_2010        220423 non-null  float64\n",
      " 178 pct_nonfamily_hhd_acs_09_13       220423 non-null  float64\n",
      " 179 pct_sngl_prns_hhd_cen_2010        220423 non-null  float64\n",
      " 180 pct_sngl_prns_hhd_acs_09_13       220423 non-null  float64\n",
      " 181 pct_hhd_ppl_und_18_cen_2010       220423 non-null  float64\n",
      " 182 pct_hhd_ppl_und_18_acs_09_13      220423 non-null  float64\n",
      " 183 avg_tot_prns_in_hhd_cen_2010      220423 non-null  float64\n",
      " 184 avg_tot_prns_in_hhd_acs_09_13     220423 non-null  float64\n",
      " 185 pct_rel_under_6_cen_2010          220423 non-null  float64\n",
      " 186 pct_rel_under_6_acs_09_13         220423 non-null  float64\n",
      " 187 pct_hhd_moved_in_acs_09_13        220423 non-null  float64\n",
      " 188 pct_pub_asst_inc_acs_09_13        220423 non-null  float64\n",
      " 189 avg_agg_hh_inc_acs_09_13          220423 non-null  float64\n",
      " 190 pct_tot_occp_units_cen_2010       220423 non-null  float64\n",
      " 191 pct_tot_occp_units_acs_09_13      220423 non-null  float64\n",
      " 192 pct_vacant_units_cen_2010         220423 non-null  float64\n",
      " 193 pct_vacant_units_acs_09_13        220423 non-null  float64\n",
      " 194 pct_renter_occp_hu_cen_2010       220423 non-null  float64\n",
      " 195 pct_renter_occp_hu_acs_09_13      220423 non-null  float64\n",
      " 196 pct_owner_occp_hu_cen_2010        220423 non-null  float64\n",
      " 197 pct_owner_occp_hu_acs_09_13       220423 non-null  float64\n",
      " 198 pct_single_unit_acs_09_13         220423 non-null  float64\n",
      " 199 pct_mlt_u2_9_strc_acs_09_13       220423 non-null  float64\n",
      " 200 pct_mlt_u10p_acs_09_13            220423 non-null  float64\n",
      " 201 pct_mobile_homes_acs_09_13        220423 non-null  float64\n",
      " 202 pct_crowd_occp_u_acs_09_13        220423 non-null  float64\n",
      " 203 pct_no_ph_srvc_acs_09_13          220423 non-null  float64\n",
      " 204 pct_no_plumb_acs_09_13            220423 non-null  float64\n",
      " 205 pct_recent_built_hu_acs_09_13     220423 non-null  float64\n",
      " 206 avg_agg_house_value_acs_09_13     220423 non-null  float64\n",
      " 207 pct_tea_mailoutmailback_cen_2010  220423 non-null  float64\n",
      " 208 pct_tea_update_leave_cen_2010     220423 non-null  float64\n",
      " 209 pct_census_mail_returns_cen_2010  220423 non-null  float64\n",
      " 210 pct_vacant_cen_2010               220423 non-null  float64\n",
      " 211 pct_deletes_cen_2010              220423 non-null  float64\n",
      " 212 pct_census_uaa_cen_2010           220423 non-null  float64\n",
      " 213 pct_mailback_count_cen_2010       220423 non-null  float64\n",
      " 214 pct_frst_frms_cen_2010            220423 non-null  float64\n",
      " 215 pct_rplcmnt_frms_cen_2010         220423 non-null  float64\n",
      " 216 pct_bilq_mailout_count_cen_2010   220423 non-null  float64\n",
      "dtypes: float64(217)\n",
      "memory usage: 364.9 MB\n"
     ]
    }
   ],
   "source": [
    "# Prepare the features\n",
    "# Drop all the columns that came in from the site data. This prevents 'trailing indicators' from getting into the model.\n",
    "# Also drop any column that shouldn't mathematically matter, such as FIPS, tract, etc.\n",
    "exclusion_list = ['fips_block_group',\n",
    "            'state',\n",
    "            'state_name',\n",
    "            'county',\n",
    "            'county_name',\n",
    "            'tract',\n",
    "            'block_group',\n",
    "            'has_superfund',\n",
    "            'fips_full',\n",
    "            'address',\n",
    "            'city',\n",
    "            'date_added',\n",
    "            'federal_facility_ind',\n",
    "            'federal_register_url',\n",
    "            'geocode_source',\n",
    "            'latitude',\n",
    "            'longitude',\n",
    "            'site_epa_id',\n",
    "            'site_name',\n",
    "            'site_narrative_url',\n",
    "            'site_progress_url',\n",
    "            'site_score',\n",
    "            'site_text'\n",
    "            ]\n",
    "\n",
    "feature_df = data_df.copy()\n",
    "feature_df.drop(feature_df[exclusion_list],axis=1,inplace=True)\n",
    "feature_names = feature_df.columns\n",
    "\n",
    "feature_df.info(verbose = True, null_counts = True)"
   ]
  },
  {
   "cell_type": "markdown",
   "metadata": {},
   "source": [
    "### train/test split"
   ]
  },
  {
   "cell_type": "code",
   "execution_count": 6,
   "metadata": {},
   "outputs": [],
   "source": [
    "X_train, X_test, y_train, y_test = train_test_split(feature_df, target, random_state=42)"
   ]
  },
  {
   "cell_type": "markdown",
   "metadata": {},
   "source": [
    "## Build Models"
   ]
  },
  {
   "cell_type": "markdown",
   "metadata": {},
   "source": [
    "### Tree Classifier"
   ]
  },
  {
   "cell_type": "code",
   "execution_count": null,
   "metadata": {},
   "outputs": [],
   "source": [
    "%%time\n",
    "clf = tree.DecisionTreeClassifier()\n",
    "clf = clf.fit(X_train, y_train)"
   ]
  },
  {
   "cell_type": "code",
   "execution_count": null,
   "metadata": {},
   "outputs": [],
   "source": [
    "# use a confusion matrix to inspect the score\n",
    "clf_predictions = clf.predict(X_test)\n",
    "clf_report = classification_report(y_test, clf_predictions)\n",
    "print(clf_report)"
   ]
  },
  {
   "cell_type": "code",
   "execution_count": null,
   "metadata": {},
   "outputs": [],
   "source": [
    "# sorted(zip(clf.feature_importances_, feature_names), reverse=True)\n",
    "# build a dictionary of features and their importance, and then sort.\n",
    "clf_feature_importance = {feature_names[i]: clf.feature_importances_[i] for i in range(len(feature_names))}\n",
    "{k: v for k, v in sorted(clf_feature_importance.items(), key=lambda item: item[1], reverse = True)}"
   ]
  },
  {
   "cell_type": "markdown",
   "metadata": {},
   "source": [
    "### Random Forest Classifier"
   ]
  },
  {
   "cell_type": "code",
   "execution_count": null,
   "metadata": {},
   "outputs": [],
   "source": [
    "%%time\n",
    "rf = RandomForestClassifier(n_estimators=200)\n",
    "rf = rf.fit(X_train, y_train)"
   ]
  },
  {
   "cell_type": "code",
   "execution_count": null,
   "metadata": {},
   "outputs": [],
   "source": [
    "rf_predictions = rf.predict(X_test)\n",
    "rf_report = classification_report(y_test, rf_predictions)\n",
    "print(rf_report)"
   ]
  },
  {
   "cell_type": "code",
   "execution_count": null,
   "metadata": {},
   "outputs": [],
   "source": [
    "# build a dictionary of features and their importance, and then sort.\n",
    "rf_feature_importance = {feature_names[i]: rf.feature_importances_[i] for i in range(len(feature_names))}\n",
    "{k: v for k, v in sorted(rf_feature_importance.items(), key=lambda item: item[1], reverse = True)}"
   ]
  },
  {
   "cell_type": "markdown",
   "metadata": {},
   "source": [
    "### Balanced Tree Classifier"
   ]
  },
  {
   "cell_type": "code",
   "execution_count": null,
   "metadata": {},
   "outputs": [],
   "source": [
    "%%time\n",
    "bclf = tree.DecisionTreeClassifier(class_weight='balanced')\n",
    "bclf = bclf.fit(X_train, y_train)"
   ]
  },
  {
   "cell_type": "code",
   "execution_count": null,
   "metadata": {},
   "outputs": [],
   "source": [
    "bclf_predictions = bclf.predict(X_test)\n",
    "bclf_report = classification_report(y_test, bclf_predictions)\n",
    "print(bclf_report)"
   ]
  },
  {
   "cell_type": "code",
   "execution_count": null,
   "metadata": {},
   "outputs": [],
   "source": [
    "# build a dictionary of features and their importance, and then sort.\n",
    "bclf_feature_importance = {feature_names[i]: bclf.feature_importances_[i] for i in range(len(feature_names))}\n",
    "# {k: v for k, v in sorted(bclf_feature_importance.items(), key=lambda item: item[1], reverse = True)}"
   ]
  },
  {
   "cell_type": "markdown",
   "metadata": {},
   "source": [
    "### Balanced Random Forest Classifier"
   ]
  },
  {
   "cell_type": "code",
   "execution_count": 7,
   "metadata": {},
   "outputs": [
    {
     "name": "stdout",
     "output_type": "stream",
     "text": [
      "Wall time: 4min 44s\n"
     ]
    }
   ],
   "source": [
    "%%time\n",
    "brf = RandomForestClassifier(n_estimators=200, class_weight='balanced')\n",
    "brf = brf.fit(X_train, y_train)"
   ]
  },
  {
   "cell_type": "code",
   "execution_count": 8,
   "metadata": {},
   "outputs": [
    {
     "name": "stdout",
     "output_type": "stream",
     "text": [
      "              precision    recall  f1-score   support\n",
      "\n",
      "         0.0       0.99      1.00      1.00     54790\n",
      "         1.0       1.00      0.08      0.15       316\n",
      "\n",
      "    accuracy                           0.99     55106\n",
      "   macro avg       1.00      0.54      0.57     55106\n",
      "weighted avg       0.99      0.99      0.99     55106\n",
      "\n"
     ]
    }
   ],
   "source": [
    "brf_predictions = brf.predict(X_test)\n",
    "brf_report = classification_report(y_test, brf_predictions)\n",
    "print(brf_report)"
   ]
  },
  {
   "cell_type": "code",
   "execution_count": 30,
   "metadata": {},
   "outputs": [],
   "source": [
    "# build a dictionary of features and their importance, and then sort.\n",
    "brf_feature_importance = {feature_names[i]: brf.feature_importances_[i] for i in range(len(feature_names))}\n",
    "{k: v for k, v in sorted(brf_feature_importance.items(), key=lambda item: item[1], reverse = True)}"
   ]
  },
  {
   "cell_type": "code",
   "execution_count": 26,
   "metadata": {},
   "outputs": [
    {
     "data": {
      "text/plain": [
       "<matplotlib.legend.Legend at 0x23ea37c5f88>"
      ]
     },
     "execution_count": 26,
     "metadata": {},
     "output_type": "execute_result"
    },
    {
     "data": {
      "image/png": "[encoded data removed]",
      "text/plain": [
       "<Figure size 432x288 with 1 Axes>"
      ]
     },
     "metadata": {
      "needs_background": "light"
     },
     "output_type": "display_data"
    }
   ],
   "source": [
    "# get top K features and plot them\n",
    "K = 5\n",
    "top_features = dict(sorted(brf_feature_importance.items(), key = itemgetter(1), reverse = True)[:K])\n",
    "top_features_df = pd.DataFrame.from_dict(top_features, orient = 'index')\n",
    "\n",
    "import matplotlib.pyplot as plt\n",
    "top_features_df.plot(kind='bar')\n",
    "plt.legend(loc='center left', bbox_to_anchor=(1, 0.5))"
   ]
  },
  {
   "cell_type": "markdown",
   "metadata": {},
   "source": [
    "## Evaluate Models"
   ]
  },
  {
   "cell_type": "markdown",
   "metadata": {},
   "source": [
    "### Confusion Matrices"
   ]
  },
  {
   "cell_type": "code",
   "execution_count": null,
   "metadata": {},
   "outputs": [],
   "source": [
    "print('Confusion Matrices')\n",
    "print('-----------------------------------------------------')\n",
    "print('Decision Tree')\n",
    "print(clf_report)\n",
    "print('-----------------------------------------------------')\n",
    "print('Random Forest')\n",
    "print(rf_report)\n",
    "print('-----------------------------------------------------')\n",
    "print('Decision Tree with Class Balancing')\n",
    "print(bclf_report)\n",
    "print('-----------------------------------------------------')\n",
    "print('Random Forest with Class Balancing')\n",
    "print(brf_report)\n",
    "print('-----------------------------------------------------')"
   ]
  },
  {
   "cell_type": "markdown",
   "metadata": {},
   "source": [
    "### ROC-AUC Score"
   ]
  },
  {
   "cell_type": "code",
   "execution_count": null,
   "metadata": {},
   "outputs": [],
   "source": [
    "from sklearn.metrics import roc_auc_score\n",
    "\n",
    "clf_prob_predictions = clf.predict_proba(X_test)\n",
    "bclf_prob_predictions = bclf.predict_proba(X_test)\n",
    "rf_prob_predictions = rf.predict_proba(X_test)\n",
    "brf_prob_predictions = brf.predict_proba(X_test)"
   ]
  },
  {
   "cell_type": "code",
   "execution_count": null,
   "metadata": {},
   "outputs": [],
   "source": [
    "print(f\"Decision Tree ROC-AUC score: {roc_auc_score(y_test, clf_prob_predictions[:,1])}\")\n",
    "print(f\"Balanced Decision Tree ROC-AUC score: {roc_auc_score(y_test, bclf_prob_predictions[:,1])}\")\n",
    "print(f\"Random Forest ROC-AUC score: {roc_auc_score(y_test, rf_prob_predictions[:,1])}\")\n",
    "print(f\"Balanced Random Forest ROC-AUC score: {roc_auc_score(y_test, brf_prob_predictions[:,1])}\")"
   ]
  },
  {
   "cell_type": "markdown",
   "metadata": {},
   "source": [
    "## Reduce Features and Iterate"
   ]
  },
  {
   "cell_type": "code",
   "execution_count": 27,
   "metadata": {},
   "outputs": [],
   "source": [
    "# Select the bottom K features for exclusion\n",
    "K = 187\n",
    "bottom_features = dict(sorted(brf_feature_importance.items(), key = itemgetter(1))[:K])\n",
    "# make a list of the feature names\n",
    "bottom_list = list(bottom_features.keys())"
   ]
  },
  {
   "cell_type": "code",
   "execution_count": 28,
   "metadata": {},
   "outputs": [
    {
     "name": "stdout",
     "output_type": "stream",
     "text": [
      "<class 'pandas.core.frame.DataFrame'>\n",
      "RangeIndex: 220423 entries, 0 to 220422\n",
      "Data columns (total 30 columns):\n",
      " #   Column                        Non-Null Count   Dtype  \n",
      "---  ------                        --------------   -----  \n",
      " 0   land_area                     220423 non-null  float64\n",
      " 1   rural_pop_cen_2010            220423 non-null  float64\n",
      " 2   med_house_value_bg_acs_09_13  220423 non-null  float64\n",
      " 3   med_house_value_tr_acs_09_13  220423 non-null  float64\n",
      " 4   mail_return_rate_cen_2010     220423 non-null  float64\n",
      " 5   low_response_score            220423 non-null  float64\n",
      " 6   pct_rural_pop_cen_2010        220423 non-null  float64\n",
      " 7   pct_males_cen_2010            220423 non-null  float64\n",
      " 8   pct_males_acs_09_13           220423 non-null  float64\n",
      " 9   pct_females_cen_2010          220423 non-null  float64\n",
      " 10  pct_females_acs_09_13         220423 non-null  float64\n",
      " 11  pct_pop_under_5_cen_2010      220423 non-null  float64\n",
      " 12  pct_pop_5_17_acs_09_13        220423 non-null  float64\n",
      " 13  pct_pop_18_24_cen_2010        220423 non-null  float64\n",
      " 14  pct_pop_18_24_acs_09_13       220423 non-null  float64\n",
      " 15  pct_pop_65plus_cen_2010       220423 non-null  float64\n",
      " 16  pct_pop_65plus_acs_09_13      220423 non-null  float64\n",
      " 17  pct_hispanic_cen_2010         220423 non-null  float64\n",
      " 18  pct_nh_white_alone_cen_2010   220423 non-null  float64\n",
      " 19  pct_nh_white_alone_acs_09_13  220423 non-null  float64\n",
      " 20  pct_pop_25yrs_over_acs_09_13  220423 non-null  float64\n",
      " 21  pct_not_hs_grad_acs_09_13     220423 non-null  float64\n",
      " 22  pct_college_acs_09_13         220423 non-null  float64\n",
      " 23  pct_one_health_ins_acs_09_13  220423 non-null  float64\n",
      " 24  pct_female_no_hb_acs_09_13    220423 non-null  float64\n",
      " 25  pct_single_unit_acs_09_13     220423 non-null  float64\n",
      " 26  pct_mlt_u2_9_strc_acs_09_13   220423 non-null  float64\n",
      " 27  pct_vacant_cen_2010           220423 non-null  float64\n",
      " 28  pct_census_uaa_cen_2010       220423 non-null  float64\n",
      " 29  pct_mailback_count_cen_2010   220423 non-null  float64\n",
      "dtypes: float64(30)\n",
      "memory usage: 50.5 MB\n"
     ]
    }
   ],
   "source": [
    "# make a new exclusion list and generate a new features df\n",
    "new_exclusion_list = exclusion_list + bottom_list\n",
    "\n",
    "new_feature_df = data_df.copy()\n",
    "new_feature_df.drop(new_feature_df[new_exclusion_list],axis=1,inplace=True)\n",
    "feature_names = new_feature_df.columns\n",
    "\n",
    "new_feature_df.info(verbose = True, null_counts = True)"
   ]
  },
  {
   "cell_type": "code",
   "execution_count": 31,
   "metadata": {},
   "outputs": [
    {
     "name": "stdout",
     "output_type": "stream",
     "text": [
      "              precision    recall  f1-score   support\n",
      "\n",
      "         0.0       0.99      1.00      1.00     54790\n",
      "         1.0       1.00      0.08      0.15       316\n",
      "\n",
      "    accuracy                           0.99     55106\n",
      "   macro avg       1.00      0.54      0.57     55106\n",
      "weighted avg       0.99      0.99      0.99     55106\n",
      "\n",
      "ROC-AUC score: 0.66557457010773\n",
      "Wall time: 2min 15s\n"
     ]
    }
   ],
   "source": [
    "%%time\n",
    "from sklearn.metrics import roc_auc_score\n",
    "X_train_2, X_test_2, y_train_2, y_test_2 = train_test_split(new_feature_df, target, random_state=42)\n",
    "\n",
    "brf_2 = RandomForestClassifier(n_estimators=200, class_weight='balanced')\n",
    "brf_2 = brf_2.fit(X_train_2, y_train_2)\n",
    "\n",
    "brf_2_predictions = brf_2.predict(X_test_2)\n",
    "brf_2_prob_predictions = brf_2.predict_proba(X_test_2)\n",
    "\n",
    "\n",
    "print(classification_report(y_test_2, brf_2_predictions))\n",
    "\n",
    "print(f\"ROC-AUC score: {roc_auc_score(y_test_2, brf_2_prob_predictions[:,1])}\")"
   ]
  },
  {
   "cell_type": "code",
   "execution_count": 45,
   "metadata": {},
   "outputs": [
    {
     "data": {
      "image/png": "[encoded data removed]",
      "text/plain": [
       "<Figure size 432x288 with 1 Axes>"
      ]
     },
     "metadata": {
      "needs_background": "light"
     },
     "output_type": "display_data"
    }
   ],
   "source": [
    "brf_2_feature_importance = {feature_names[i]: brf_2.feature_importances_[i] for i in range(len(feature_names))}\n",
    "# get top K features and plot them\n",
    "K = 10\n",
    "top_features = dict(sorted(brf_2_feature_importance.items(), key = itemgetter(1), reverse = True)[:K])\n",
    "top_features_df = pd.DataFrame.from_dict(top_features, orient = 'index')\n",
    "\n",
    "import matplotlib.pyplot as plt\n",
    "plot = top_features_df.plot(kind='barh', legend = None)\n",
    "plt.tight_layout()\n",
    "plt.gca().invert_yaxis()\n",
    "plt.ylabel('Feature')\n",
    "plt.xlabel('Feature Importance')\n",
    "fig = plot.get_figure()\n",
    "fig.savefig(\"top_10_forest_features.png\", bbox_inches='tight')"
   ]
  },
  {
   "cell_type": "code",
   "execution_count": null,
   "metadata": {},
   "outputs": [],
   "source": [
    "# %%time\n",
    "# best_features = 0\n",
    "# best_roc_auc_score = 0\n",
    "# score_log = {}\n",
    "\n",
    "# for i in range(0, len(feature_df.columns)-1):\n",
    "    \n",
    "#     print('-----------------------------------------------------')\n",
    "#     print(f\"Top {len(feature_df.columns)-i} features\")\n",
    "    \n",
    "#     # trim off a bunch of features\n",
    "#     K = i\n",
    "#     bottom_features = dict(sorted(brf_feature_importance.items(), key = itemgetter(1))[:K])\n",
    "    \n",
    "#     # make a list of the feature names\n",
    "#     bottom_list = list(bottom_features.keys())\n",
    "#     new_exclusion_list = exclusion_list + bottom_list\n",
    "\n",
    "#     # create the new feature list\n",
    "#     new_feature_df = data_df.copy()\n",
    "#     new_feature_df.drop(new_feature_df[new_exclusion_list],axis=1,inplace=True)\n",
    "#     feature_names = new_feature_df.columns\n",
    "\n",
    "#     # create the train/test split\n",
    "#     X_train_2, X_test_2, y_train_2, y_test_2 = train_test_split(new_feature_df, target, random_state=42)\n",
    "\n",
    "#     # create and fit the model\n",
    "#     brf_2 = RandomForestClassifier(n_estimators=200, class_weight='balanced')\n",
    "#     brf_2 = brf_2.fit(X_train_2, y_train_2)\n",
    "\n",
    "#     # run some predictions\n",
    "#     brf_2_predictions = brf_2.predict(X_test_2)\n",
    "#     brf_2_prob_predictions = brf_2.predict_proba(X_test_2)\n",
    "    \n",
    "#     new_score = roc_auc_score(y_test_2, brf_2_prob_predictions[:,1])\n",
    "    \n",
    "#     score_log[len(feature_df.columns)-i] = new_score\n",
    "    \n",
    "#     if new_score > best_roc_auc_score:\n",
    "#         best_roc_auc_score = new_score\n",
    "#         best_features = len(feature_df.columns)-i\n",
    "        \n",
    "#     # print results\n",
    "#     print(classification_report(y_test_2, brf_2_predictions))\n",
    "#     print(f\"ROC-AUC score: {new_score}\")\n",
    "#     print('-----------------------------------------------------')"
   ]
  },
  {
   "cell_type": "code",
   "execution_count": null,
   "metadata": {},
   "outputs": [],
   "source": [
    "# print(f\"Best results was a ROC-AUC score of {best_roc_auc_score} for the top {best_features} features.\")"
   ]
  },
  {
   "cell_type": "code",
   "execution_count": null,
   "metadata": {},
   "outputs": [],
   "source": [
    "# print(score_log)"
   ]
  },
  {
   "cell_type": "markdown",
   "metadata": {},
   "source": [
    "# Finish chosen model"
   ]
  },
  {
   "cell_type": "code",
   "execution_count": null,
   "metadata": {},
   "outputs": [],
   "source": [
    "# select the chosen model\n",
    "model = brf_2"
   ]
  },
  {
   "cell_type": "markdown",
   "metadata": {},
   "source": [
    "## Save Model"
   ]
  },
  {
   "cell_type": "code",
   "execution_count": null,
   "metadata": {},
   "outputs": [],
   "source": [
    "import joblib\n",
    "filename = 'superfund_site_model.sav'\n",
    "joblib.dump(model, filename)"
   ]
  },
  {
   "cell_type": "markdown",
   "metadata": {},
   "source": [
    "## Generate Predictions"
   ]
  },
  {
   "cell_type": "code",
   "execution_count": null,
   "metadata": {},
   "outputs": [],
   "source": [
    "# get features for generating predictions for full dataset\n",
    "new_feature_df.info()"
   ]
  },
  {
   "cell_type": "code",
   "execution_count": null,
   "metadata": {},
   "outputs": [],
   "source": [
    "# generate predictions using the final selected model\n",
    "site_presence_prediction = model.predict_proba(new_feature_df)"
   ]
  },
  {
   "cell_type": "code",
   "execution_count": null,
   "metadata": {},
   "outputs": [],
   "source": [
    "# make a list of the predictions\n",
    "predicted_probabilities = []\n",
    "for i in range(0, len(site_presence_prediction)):\n",
    "    predicted_probabilities.append(site_presence_prediction[i][1])"
   ]
  },
  {
   "cell_type": "code",
   "execution_count": null,
   "metadata": {},
   "outputs": [],
   "source": [
    "# add predictions to the full dataset for export\n",
    "export_df = data_df.copy()\n",
    "export_df['site_probability'] = predicted_probabilities\n",
    "export_df['score_prediction'] = 0.0"
   ]
  },
  {
   "cell_type": "code",
   "execution_count": null,
   "metadata": {},
   "outputs": [],
   "source": [
    "export_df.info()"
   ]
  },
  {
   "cell_type": "markdown",
   "metadata": {},
   "source": [
    "## Export to csv"
   ]
  },
  {
   "cell_type": "code",
   "execution_count": null,
   "metadata": {},
   "outputs": [],
   "source": [
    "export_df.to_csv(export_data_csv, index = False)"
   ]
  },
  {
   "cell_type": "markdown",
   "metadata": {},
   "source": [
    "## Export feature list"
   ]
  },
  {
   "cell_type": "code",
   "execution_count": null,
   "metadata": {},
   "outputs": [],
   "source": [
    "tree_features = new_feature_df.columns.values.tolist()\n",
    "tree_features"
   ]
  },
  {
   "cell_type": "code",
   "execution_count": null,
   "metadata": {},
   "outputs": [],
   "source": [
    "site_model_features = new_feature_df.columns.values.tolist()\n",
    "f = open(\"feature_list_vault.py\", \"a\")\n",
    "hasTextBeenWritten = False\n",
    "f.write(\"site_model_features = [ \\n\")\n",
    "for i in site_model_features: \n",
    "    if hasTextBeenWritten:\n",
    "        f.write(\",\\n\")\n",
    "    f.write(f\"'{i}'\")\n",
    "    hasTextBeenWritten = True\n",
    "f.write(\"\\n]\\n\\n\")\n",
    "f.close()"
   ]
  }
 ],
 "metadata": {
  "kernelspec": {
   "display_name": "Python 3",
   "language": "python",
   "name": "python3"
  },
  "language_info": {
   "codemirror_mode": {
    "name": "ipython",
    "version": 3
   },
   "file_extension": ".py",
   "mimetype": "text/x-python",
   "name": "python",
   "nbconvert_exporter": "python",
   "pygments_lexer": "ipython3",
   "version": "3.7.7"
  }
 },
 "nbformat": 4,
 "nbformat_minor": 4
}
