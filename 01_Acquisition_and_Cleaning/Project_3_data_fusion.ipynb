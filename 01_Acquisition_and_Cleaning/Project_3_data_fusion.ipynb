{
 "cells": [
  {
   "cell_type": "markdown",
   "metadata": {},
   "source": [
    "# Setup"
   ]
  },
  {
   "cell_type": "markdown",
   "metadata": {},
   "source": [
    "## Import Libraries"
   ]
  },
  {
   "cell_type": "code",
   "execution_count": 1,
   "metadata": {},
   "outputs": [],
   "source": [
    "import pandas as pd\n",
    "import os\n",
    "import json"
   ]
  },
  {
   "cell_type": "markdown",
   "metadata": {},
   "source": [
    "## Set file locations"
   ]
  },
  {
   "cell_type": "code",
   "execution_count": 2,
   "metadata": {},
   "outputs": [],
   "source": [
    "# tract data\n",
    "tract_data_csv = \"../00_Data/cleaned_data/cleaned_pdb_tract.csv\"\n",
    "# tract_data_json = \"../00_Data/cleaned_data/cleaned_pdb_tract.json\"\n",
    "\n",
    "# block data\n",
    "block_data_csv = \"../00_Data/cleaned_data/cleaned_pdb_block_group.csv\"\n",
    "# block_data_json = \"../00_Data/cleaned_data/cleaned_pdb_block_group.json\"\n",
    "\n",
    "# site data\n",
    "site_data_csv = \"../00_Data/cleaned_data/cleaned_priorities_list.csv\"\n",
    "# site_data_json = \"../00_Data/cleaned_data/cleaned_priorities_list.json\"\n",
    "\n",
    "# inspection csv\n",
    "inspection_csv = \"../00_Data/inspection_files/inspection_file.csv\"\n",
    "\n",
    "# cleaned, merged data\n",
    "merged_data_csv = \"../00_Data/cleaned_data/cleaned_merged_data.csv\"\n",
    "merged_data_json = \"../00_Data/cleaned_data/cleaned_merged_data.json\""
   ]
  },
  {
   "cell_type": "markdown",
   "metadata": {},
   "source": [
    "# Import Data"
   ]
  },
  {
   "cell_type": "code",
   "execution_count": 3,
   "metadata": {},
   "outputs": [
    {
     "name": "stdout",
     "output_type": "stream",
     "text": [
      "<class 'pandas.core.frame.DataFrame'>\n",
      "RangeIndex: 220354 entries, 0 to 220353\n",
      "Columns: 345 entries, fips_block_group to has_superfund\n",
      "dtypes: float64(337), int64(6), object(2)\n",
      "memory usage: 580.0+ MB\n"
     ]
    }
   ],
   "source": [
    "# Import census data\n",
    "census_df = pd.read_csv(block_data_csv)\n",
    "census_df.info()"
   ]
  },
  {
   "cell_type": "code",
   "execution_count": 4,
   "metadata": {},
   "outputs": [
    {
     "name": "stdout",
     "output_type": "stream",
     "text": [
      "<class 'pandas.core.frame.DataFrame'>\n",
      "RangeIndex: 1339 entries, 0 to 1338\n",
      "Columns: 359 entries, fips_full to pct_bilq_mailout_count_cen_2010\n",
      "dtypes: float64(342), int64(4), object(13)\n",
      "memory usage: 3.7+ MB\n"
     ]
    }
   ],
   "source": [
    "# Import superfund site data\n",
    "site_df = pd.read_csv(site_data_csv)\n",
    "site_df.info()"
   ]
  },
  {
   "cell_type": "markdown",
   "metadata": {},
   "source": [
    "# Merge Data"
   ]
  },
  {
   "cell_type": "code",
   "execution_count": 5,
   "metadata": {},
   "outputs": [
    {
     "name": "stdout",
     "output_type": "stream",
     "text": [
      "<class 'pandas.core.frame.DataFrame'>\n",
      "Int64Index: 220426 entries, 0 to 220425\n",
      "Columns: 703 entries, fips_block_group to pct_bilq_mailout_count_cen_2010_y\n",
      "dtypes: float64(687), int64(1), object(15)\n",
      "memory usage: 1.2+ GB\n"
     ]
    }
   ],
   "source": [
    "merged_df = pd.merge(census_df, site_df, how='outer', on='fips_block_group')\n",
    "merged_df.info()"
   ]
  },
  {
   "cell_type": "markdown",
   "metadata": {},
   "source": [
    "## Inspect/Clean the Merged Data\n",
    "Looking at the .info() above, we notice that there are some entries that may be missing some information, i.e. there are FIPS block IDs that are not part of the census data. Let's take a closer look at those. Later, we need to make some decisions about how we deal with that data."
   ]
  },
  {
   "cell_type": "markdown",
   "metadata": {},
   "source": [
    "### Inspection"
   ]
  },
  {
   "cell_type": "code",
   "execution_count": 6,
   "metadata": {},
   "outputs": [],
   "source": [
    "inspection_df = merged_df[merged_df['state_name_x'].isnull()]"
   ]
  },
  {
   "cell_type": "code",
   "execution_count": 7,
   "metadata": {},
   "outputs": [],
   "source": [
    "inspection_df.to_csv(inspection_csv, index = False)"
   ]
  },
  {
   "cell_type": "markdown",
   "metadata": {},
   "source": [
    "### Cleaning"
   ]
  },
  {
   "cell_type": "code",
   "execution_count": 8,
   "metadata": {},
   "outputs": [
    {
     "name": "stderr",
     "output_type": "stream",
     "text": [
      "C:\\Users\\jackc\\anaconda3\\envs\\PythonData\\lib\\site-packages\\pandas\\core\\frame.py:4153: SettingWithCopyWarning: \n",
      "A value is trying to be set on a copy of a slice from a DataFrame\n",
      "\n",
      "See the caveats in the documentation: https://pandas.pydata.org/pandas-docs/stable/user_guide/indexing.html#returning-a-view-versus-a-copy\n",
      "  downcast=downcast,\n"
     ]
    }
   ],
   "source": [
    "# drop the duplicate columns\n",
    "column_names = list(merged_df.columns.values)\n",
    "\n",
    "exclusion_list = ['_y']\n",
    "selected_columns = [x for x in column_names if all(y not in x for y in exclusion_list)]\n",
    "\n",
    "clean_merged_df = merged_df[selected_columns]\n",
    "\n",
    "# tidy up the column names\n",
    "clean_merged_df.columns = clean_merged_df.columns.str.rstrip('_x')\n",
    "\n",
    "# fill in nulls with zeros\n",
    "clean_merged_df.fillna(0, inplace = True)"
   ]
  },
  {
   "cell_type": "code",
   "execution_count": 9,
   "metadata": {},
   "outputs": [
    {
     "name": "stdout",
     "output_type": "stream",
     "text": [
      "<class 'pandas.core.frame.DataFrame'>\n",
      "Int64Index: 220426 entries, 0 to 220425\n",
      "Columns: 360 entries, fips_block_group to site_text\n",
      "dtypes: float64(346), int64(1), object(13)\n",
      "memory usage: 607.1+ MB\n"
     ]
    }
   ],
   "source": [
    "clean_merged_df.info()"
   ]
  },
  {
   "cell_type": "markdown",
   "metadata": {},
   "source": [
    "# Export the Merged Data"
   ]
  },
  {
   "cell_type": "code",
   "execution_count": 10,
   "metadata": {},
   "outputs": [],
   "source": [
    "# Export to csv\n",
    "clean_merged_df.to_csv(merged_data_csv, index = False)"
   ]
  },
  {
   "cell_type": "code",
   "execution_count": 11,
   "metadata": {},
   "outputs": [],
   "source": [
    "# # Export to flat json\n",
    "# clean_merged_df.to_json(merged_data_json, orient='records')"
   ]
  }
 ],
 "metadata": {
  "kernelspec": {
   "display_name": "Python 3",
   "language": "python",
   "name": "python3"
  },
  "language_info": {
   "codemirror_mode": {
    "name": "ipython",
    "version": 3
   },
   "file_extension": ".py",
   "mimetype": "text/x-python",
   "name": "python",
   "nbconvert_exporter": "python",
   "pygments_lexer": "ipython3",
   "version": "3.7.7"
  }
 },
 "nbformat": 4,
 "nbformat_minor": 4
}
