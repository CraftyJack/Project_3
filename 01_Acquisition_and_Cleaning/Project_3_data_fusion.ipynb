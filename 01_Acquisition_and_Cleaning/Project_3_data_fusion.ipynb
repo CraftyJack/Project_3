{
 "cells": [
  {
   "cell_type": "markdown",
   "metadata": {},
   "source": [
    "# Setup"
   ]
  },
  {
   "cell_type": "markdown",
   "metadata": {},
   "source": [
    "## Import Libraries"
   ]
  },
  {
   "cell_type": "code",
   "execution_count": 1,
   "metadata": {},
   "outputs": [],
   "source": [
    "import pandas as pd\n",
    "import os\n",
    "import json"
   ]
  },
  {
   "cell_type": "markdown",
   "metadata": {},
   "source": [
    "## Set file locations"
   ]
  },
  {
   "cell_type": "code",
   "execution_count": 2,
   "metadata": {},
   "outputs": [],
   "source": [
    "# tract data\n",
    "tract_data_csv = \"../00_Data/cleaned_data/cleaned_pdb_tract.csv\"\n",
    "# tract_data_json = \"../00_Data/cleaned_data/cleaned_pdb_tract.json\"\n",
    "\n",
    "# block data\n",
    "block_data_csv = \"../00_Data/cleaned_data/cleaned_pdb_block_group.csv\"\n",
    "# block_data_json = \"../00_Data/cleaned_data/cleaned_pdb_block_group.json\"\n",
    "\n",
    "# site data\n",
    "site_data_csv = \"../00_Data/cleaned_data/cleaned_priorities_list.csv\"\n",
    "# site_data_json = \"../00_Data/cleaned_data/cleaned_priorities_list.json\"\n",
    "\n",
    "# inspection csv\n",
    "inspection_csv = \"../00_Data/inspection_files/inspection_file.csv\"\n",
    "\n",
    "# cleaned, merged data\n",
    "merged_data_csv = \"../00_Data/cleaned_data/cleaned_merged_data.csv\"\n",
    "merged_data_json = \"../00_Data/cleaned_data/cleaned_merged_data.json\""
   ]
  },
  {
   "cell_type": "markdown",
   "metadata": {},
   "source": [
    "# Import Data"
   ]
  },
  {
   "cell_type": "code",
   "execution_count": 3,
   "metadata": {},
   "outputs": [
    {
     "name": "stdout",
     "output_type": "stream",
     "text": [
      "<class 'pandas.core.frame.DataFrame'>\n",
      "RangeIndex: 220354 entries, 0 to 220353\n",
      "Columns: 345 entries, fips_block_group to has_superfund\n",
      "dtypes: float64(337), int64(6), object(2)\n",
      "memory usage: 580.0+ MB\n"
     ]
    }
   ],
   "source": [
    "# Import census data\n",
    "census_df = pd.read_csv(block_data_csv)\n",
    "census_df.info()"
   ]
  },
  {
   "cell_type": "code",
   "execution_count": 4,
   "metadata": {},
   "outputs": [
    {
     "name": "stdout",
     "output_type": "stream",
     "text": [
      "<class 'pandas.core.frame.DataFrame'>\n",
      "RangeIndex: 1339 entries, 0 to 1338\n",
      "Columns: 359 entries, fips_full to pct_bilq_mailout_count_cen_2010\n",
      "dtypes: float64(342), int64(4), object(13)\n",
      "memory usage: 3.7+ MB\n"
     ]
    }
   ],
   "source": [
    "# Import superfund site data\n",
    "site_df = pd.read_csv(site_data_csv)\n",
    "site_df.info()"
   ]
  },
  {
   "cell_type": "markdown",
   "metadata": {},
   "source": [
    "# Merge Data"
   ]
  },
  {
   "cell_type": "code",
   "execution_count": 5,
   "metadata": {},
   "outputs": [
    {
     "name": "stdout",
     "output_type": "stream",
     "text": [
      "<class 'pandas.core.frame.DataFrame'>\n",
      "Int64Index: 220426 entries, 0 to 220425\n",
      "Columns: 703 entries, fips_block_group to pct_bilq_mailout_count_cen_2010_y\n",
      "dtypes: float64(687), int64(1), object(15)\n",
      "memory usage: 1.2+ GB\n"
     ]
    }
   ],
   "source": [
    "merged_df = pd.merge(census_df, site_df, how='outer', on='fips_block_group')\n",
    "merged_df.info()"
   ]
  },
  {
   "cell_type": "markdown",
   "metadata": {},
   "source": [
    "## Inspect/Clean the Merged Data\n",
    "Looking at the .info() above, we notice that there are some entries that may be missing some information, i.e. there are FIPS block IDs that are not part of the census data. Let's take a closer look at those. Later, we need to make some decisions about how we deal with that data."
   ]
  },
  {
   "cell_type": "markdown",
   "metadata": {},
   "source": [
    "### Inspection"
   ]
  },
  {
   "cell_type": "code",
   "execution_count": 6,
   "metadata": {},
   "outputs": [],
   "source": [
    "inspection_df = merged_df[merged_df['state_name_x'].isnull()]"
   ]
  },
  {
   "cell_type": "code",
   "execution_count": 7,
   "metadata": {},
   "outputs": [],
   "source": [
    "inspection_df.to_csv(inspection_csv, index = False)"
   ]
  },
  {
   "cell_type": "code",
   "execution_count": 8,
   "metadata": {},
   "outputs": [],
   "source": [
    "merged_df = merged_df.dropna(subset=['state_name_x'])"
   ]
  },
  {
   "cell_type": "markdown",
   "metadata": {},
   "source": [
    "### Cleaning"
   ]
  },
  {
   "cell_type": "code",
   "execution_count": 9,
   "metadata": {},
   "outputs": [
    {
     "name": "stderr",
     "output_type": "stream",
     "text": [
      "C:\\Users\\jackc\\anaconda3\\envs\\PythonData\\lib\\site-packages\\pandas\\core\\frame.py:4153: SettingWithCopyWarning: \n",
      "A value is trying to be set on a copy of a slice from a DataFrame\n",
      "\n",
      "See the caveats in the documentation: https://pandas.pydata.org/pandas-docs/stable/user_guide/indexing.html#returning-a-view-versus-a-copy\n",
      "  downcast=downcast,\n"
     ]
    }
   ],
   "source": [
    "# drop the duplicate columns, and the 'moe' columns\n",
    "column_names = list(merged_df.columns.values)\n",
    "\n",
    "exclusion_list = ['_y', 'moe']\n",
    "selected_columns = [x for x in column_names if all(y not in x for y in exclusion_list)]\n",
    "\n",
    "clean_merged_df = merged_df[selected_columns]\n",
    "\n",
    "# tidy up the column names\n",
    "clean_merged_df.columns = clean_merged_df.columns.str.rstrip('_x')\n",
    "\n",
    "# fill in nulls with zeros\n",
    "clean_merged_df.fillna(0, inplace = True)"
   ]
  },
  {
   "cell_type": "code",
   "execution_count": 10,
   "metadata": {},
   "outputs": [
    {
     "name": "stdout",
     "output_type": "stream",
     "text": [
      "<class 'pandas.core.frame.DataFrame'>\n",
      "Int64Index: 220423 entries, 0 to 220422\n",
      "Data columns (total 240 columns):\n",
      " #   Column                            Non-Null Count   Dtype  \n",
      "---  ------                            --------------   -----  \n",
      " 0   fips_block_group                  220423 non-null  int64  \n",
      " 1   state                             220423 non-null  float64\n",
      " 2   state_name                        220423 non-null  object \n",
      " 3   county                            220423 non-null  float64\n",
      " 4   county_name                       220423 non-null  object \n",
      " 5   tract                             220423 non-null  float64\n",
      " 6   block_group                       220423 non-null  float64\n",
      " 7   flag                              220423 non-null  float64\n",
      " 8   land_area                         220423 non-null  float64\n",
      " 9   aian_land                         220423 non-null  float64\n",
      " 10  urbanized_area_pop_cen_2010       220423 non-null  float64\n",
      " 11  urban_cluster_pop_cen_2010        220423 non-null  float64\n",
      " 12  rural_pop_cen_2010                220423 non-null  float64\n",
      " 13  tot_population_cen_2010           220423 non-null  float64\n",
      " 14  tot_population_acs_09_13          220423 non-null  float64\n",
      " 15  males_cen_2010                    220423 non-null  float64\n",
      " 16  males_acs_09_13                   220423 non-null  float64\n",
      " 17  females_cen_2010                  220423 non-null  float64\n",
      " 18  females_acs_09_13                 220423 non-null  float64\n",
      " 19  pop_under_5_cen_2010              220423 non-null  float64\n",
      " 20  pop_under_5_acs_09_13             220423 non-null  float64\n",
      " 21  pop_5_17_cen_2010                 220423 non-null  float64\n",
      " 22  pop_5_17_acs_09_13                220423 non-null  float64\n",
      " 23  pop_18_24_cen_2010                220423 non-null  float64\n",
      " 24  pop_18_24_acs_09_13               220423 non-null  float64\n",
      " 25  pop_25_44_cen_2010                220423 non-null  float64\n",
      " 26  pop_25_44_acs_09_13               220423 non-null  float64\n",
      " 27  pop_45_64_cen_2010                220423 non-null  float64\n",
      " 28  pop_45_64_acs_09_13               220423 non-null  float64\n",
      " 29  pop_65plus_cen_2010               220423 non-null  float64\n",
      " 30  pop_65plus_acs_09_13              220423 non-null  float64\n",
      " 31  tot_gq_cen_2010                   220423 non-null  float64\n",
      " 32  inst_gq_cen_2010                  220423 non-null  float64\n",
      " 33  non_inst_gq_cen_2010              220423 non-null  float64\n",
      " 34  hispanic_cen_2010                 220423 non-null  float64\n",
      " 35  hispanic_acs_09_13                220423 non-null  float64\n",
      " 36  nh_white_alone_cen_2010           220423 non-null  float64\n",
      " 37  nh_white_alone_acs_09_13          220423 non-null  float64\n",
      " 38  nh_blk_alone_cen_2010             220423 non-null  float64\n",
      " 39  nh_blk_alone_acs_09_13            220423 non-null  float64\n",
      " 40  nh_aian_alone_cen_2010            220423 non-null  float64\n",
      " 41  nh_aian_alone_acs_09_13           220423 non-null  float64\n",
      " 42  nh_asian_alone_cen_2010           220423 non-null  float64\n",
      " 43  nh_asian_alone_acs_09_13          220423 non-null  float64\n",
      " 44  nh_nhopi_alone_cen_2010           220423 non-null  float64\n",
      " 45  nh_nhopi_alone_acs_09_13          220423 non-null  float64\n",
      " 46  nh_sor_alone_cen_2010             220423 non-null  float64\n",
      " 47  nh_sor_alone_acs_09_13            220423 non-null  float64\n",
      " 48  pop_5yrs_over_acs_09_13           220423 non-null  float64\n",
      " 49  othr_lang_acs_09_13               220423 non-null  float64\n",
      " 50  pop_25yrs_over_acs_09_13          220423 non-null  float64\n",
      " 51  not_hs_grad_acs_09_13             220423 non-null  float64\n",
      " 52  college_acs_09_13                 220423 non-null  float64\n",
      " 53  pov_univ_acs_09_13                220423 non-null  float64\n",
      " 54  prs_blw_pov_lev_acs_09_13         220423 non-null  float64\n",
      " 55  one_health_ins_acs_09_13          220423 non-null  float64\n",
      " 56  two_plus_health_ins_acs_09_13     220423 non-null  float64\n",
      " 57  no_health_ins_acs_09_13           220423 non-null  float64\n",
      " 58  pop_1yr_over_acs_09_13            220423 non-null  float64\n",
      " 59  diff_hu_1yr_ago_acs_09_13         220423 non-null  float64\n",
      " 60  eng_vw_span_acs_09_13             220423 non-null  float64\n",
      " 61  eng_vw_indo_euro_acs_09_13        220423 non-null  float64\n",
      " 62  eng_vw_api_acs_09_13              220423 non-null  float64\n",
      " 63  eng_vw_other_acs_09_13            220423 non-null  float64\n",
      " 64  eng_vw_acs_09_13                  220423 non-null  float64\n",
      " 65  rel_family_hhds_cen_2010          220423 non-null  float64\n",
      " 66  rel_family_hhd_acs_09_13          220423 non-null  float64\n",
      " 67  mrdcple_fmly_hhd_cen_2010         220423 non-null  float64\n",
      " 68  mrdcple_fmly_hhd_acs_09_13        220423 non-null  float64\n",
      " 69  not_mrdcple_hhd_cen_2010          220423 non-null  float64\n",
      " 70  not_mrdcple_hhd_acs_09_13         220423 non-null  float64\n",
      " 71  female_no_hb_cen_2010             220423 non-null  float64\n",
      " 72  female_no_hb_acs_09_13            220423 non-null  float64\n",
      " 73  nonfamily_hhd_cen_2010            220423 non-null  float64\n",
      " 74  nonfamily_hhd_acs_09_13           220423 non-null  float64\n",
      " 75  sngl_prns_hhd_cen_2010            220423 non-null  float64\n",
      " 76  sngl_prns_hhd_acs_09_13           220423 non-null  float64\n",
      " 77  hhd_ppl_und_18_cen_2010           220423 non-null  float64\n",
      " 78  hhd_ppl_und_18_acs_09_13          220423 non-null  float64\n",
      " 79  tot_prns_in_hhd_cen_2010          220423 non-null  float64\n",
      " 80  tot_prns_in_hhd_acs_09_13         220423 non-null  float64\n",
      " 81  rel_child_under_6_cen_2010        220423 non-null  float64\n",
      " 82  rel_child_under_6_acs_09_13       220423 non-null  float64\n",
      " 83  hhd_moved_in_acs_09_13            220423 non-null  float64\n",
      " 84  pub_asst_inc_acs_09_13            220423 non-null  float64\n",
      " 85  med_hhd_inc_bg_acs_09_13          220423 non-null  float64\n",
      " 86  med_hhd_inc_tr_acs_09_13          220423 non-null  float64\n",
      " 87  aggregate_hh_inc_acs_09_13        220423 non-null  float64\n",
      " 88  tot_housing_units_cen_2010        220423 non-null  float64\n",
      " 89  tot_housing_units_acs_09_13       220423 non-null  float64\n",
      " 90  tot_occp_units_cen_2010           220423 non-null  float64\n",
      " 91  tot_occp_units_acs_09_13          220423 non-null  float64\n",
      " 92  tot_vacant_units_cen_2010         220423 non-null  float64\n",
      " 93  tot_vacant_units_acs_09_13        220423 non-null  float64\n",
      " 94  renter_occp_hu_cen_2010           220423 non-null  float64\n",
      " 95  renter_occp_hu_acs_09_13          220423 non-null  float64\n",
      " 96  owner_occp_hu_cen_2010            220423 non-null  float64\n",
      " 97  owner_occp_hu_acs_09_13           220423 non-null  float64\n",
      " 98  single_unit_acs_09_13             220423 non-null  float64\n",
      " 99  mlt_u2_9_strc_acs_09_13           220423 non-null  float64\n",
      " 100 mlt_u10p_acs_09_13                220423 non-null  float64\n",
      " 101 mobile_homes_acs_09_13            220423 non-null  float64\n",
      " 102 crowd_occp_u_acs_09_13            220423 non-null  float64\n",
      " 103 occp_u_no_ph_srvc_acs_09_13       220423 non-null  float64\n",
      " 104 no_plumb_acs_09_13                220423 non-null  float64\n",
      " 105 recent_built_hu_acs_09_13         220423 non-null  float64\n",
      " 106 med_house_value_bg_acs_09_13      220423 non-null  float64\n",
      " 107 med_house_value_tr_acs_09_13      220423 non-null  float64\n",
      " 108 aggr_house_value_acs_09_13        220423 non-null  float64\n",
      " 109 mailback_area_count_cen_2010      220423 non-null  float64\n",
      " 110 tea_mail_out_mail_back_cen_2010   220423 non-null  float64\n",
      " 111 tea_update_leave_cen_2010         220423 non-null  float64\n",
      " 112 census_mail_returns_cen_2010      220423 non-null  float64\n",
      " 113 vacants_cen_2010                  220423 non-null  float64\n",
      " 114 deletes_cen_2010                  220423 non-null  float64\n",
      " 115 census_uaa_cen_2010               220423 non-null  float64\n",
      " 116 valid_mailback_count_cen_2010     220423 non-null  float64\n",
      " 117 frst_frms_cen_2010                220423 non-null  float64\n",
      " 118 rplcmnt_frms_cen_2010             220423 non-null  float64\n",
      " 119 bilq_mailout_count_cen_2010       220423 non-null  float64\n",
      " 120 bilq_frms_cen_2010                220423 non-null  float64\n",
      " 121 mail_return_rate_cen_2010         220423 non-null  float64\n",
      " 122 low_response_score                220423 non-null  float64\n",
      " 123 pct_urbanized_area_pop_cen_2010   220423 non-null  float64\n",
      " 124 pct_urban_cluster_pop_cen_2010    220423 non-null  float64\n",
      " 125 pct_rural_pop_cen_2010            220423 non-null  float64\n",
      " 126 pct_males_cen_2010                220423 non-null  float64\n",
      " 127 pct_males_acs_09_13               220423 non-null  float64\n",
      " 128 pct_females_cen_2010              220423 non-null  float64\n",
      " 129 pct_females_acs_09_13             220423 non-null  float64\n",
      " 130 pct_pop_under_5_cen_2010          220423 non-null  float64\n",
      " 131 pct_pop_under_5_acs_09_13         220423 non-null  float64\n",
      " 132 pct_pop_5_17_cen_2010             220423 non-null  float64\n",
      " 133 pct_pop_5_17_acs_09_13            220423 non-null  float64\n",
      " 134 pct_pop_18_24_cen_2010            220423 non-null  float64\n",
      " 135 pct_pop_18_24_acs_09_13           220423 non-null  float64\n",
      " 136 pct_pop_25_44_cen_2010            220423 non-null  float64\n",
      " 137 pct_pop_25_44_acs_09_13           220423 non-null  float64\n",
      " 138 pct_pop_45_64_cen_2010            220423 non-null  float64\n",
      " 139 pct_pop_45_64_acs_09_13           220423 non-null  float64\n",
      " 140 pct_pop_65plus_cen_2010           220423 non-null  float64\n",
      " 141 pct_pop_65plus_acs_09_13          220423 non-null  float64\n",
      " 142 pct_tot_gq_cen_2010               220423 non-null  float64\n",
      " 143 pct_inst_gq_cen_2010              220423 non-null  float64\n",
      " 144 pct_non_inst_gq_cen_2010          220423 non-null  float64\n",
      " 145 pct_hispanic_cen_2010             220423 non-null  float64\n",
      " 146 pct_hispanic_acs_09_13            220423 non-null  float64\n",
      " 147 pct_nh_white_alone_cen_2010       220423 non-null  float64\n",
      " 148 pct_nh_white_alone_acs_09_13      220423 non-null  float64\n",
      " 149 pct_nh_blk_alone_cen_2010         220423 non-null  float64\n",
      " 150 pct_nh_blk_alone_acs_09_13        220423 non-null  float64\n",
      " 151 pct_nh_aian_alone_cen_2010        220423 non-null  float64\n",
      " 152 pct_nh_aian_alone_acs_09_13       220423 non-null  float64\n",
      " 153 pct_nh_asian_alone_cen_2010       220423 non-null  float64\n",
      " 154 pct_nh_asian_alone_acs_09_13      220423 non-null  float64\n",
      " 155 pct_nh_nhopi_alone_cen_2010       220423 non-null  float64\n",
      " 156 pct_nh_nhopi_alone_acs_09_13      220423 non-null  float64\n",
      " 157 pct_nh_sor_alone_cen_2010         220423 non-null  float64\n",
      " 158 pct_nh_sor_alone_acs_09_13        220423 non-null  float64\n",
      " 159 pct_pop_5yrs_over_acs_09_13       220423 non-null  float64\n",
      " 160 pct_othr_lang_acs_09_13           220423 non-null  float64\n",
      " 161 pct_pop_25yrs_over_acs_09_13      220423 non-null  float64\n",
      " 162 pct_not_hs_grad_acs_09_13         220423 non-null  float64\n",
      " 163 pct_college_acs_09_13             220423 non-null  float64\n",
      " 164 pct_prs_blw_pov_lev_acs_09_13     220423 non-null  float64\n",
      " 165 pct_one_health_ins_acs_09_13      220423 non-null  float64\n",
      " 166 pct_twophealth_ins_acs_09_13      220423 non-null  float64\n",
      " 167 pct_no_health_ins_acs_09_13       220423 non-null  float64\n",
      " 168 pct_pov_univ_acs_09_13            220423 non-null  float64\n",
      " 169 pct_pop_1yr_over_acs_09_13        220423 non-null  float64\n",
      " 170 pct_diff_hu_1yr_ago_acs_09_13     220423 non-null  float64\n",
      " 171 pct_eng_vw_span_acs_09_13         220423 non-null  float64\n",
      " 172 pct_eng_vw_indoeuro_acs_09_13     220423 non-null  float64\n",
      " 173 pct_eng_vw_api_acs_09_13          220423 non-null  float64\n",
      " 174 pct_eng_vw_other_acs_09_13        220423 non-null  float64\n",
      " 175 pct_eng_vw_acs_09_13              220423 non-null  float64\n",
      " 176 pct_rel_family_hhds_cen_2010      220423 non-null  float64\n",
      " 177 pct_rel_family_hhd_acs_09_13      220423 non-null  float64\n",
      " 178 pct_mrdcple_hhd_cen_2010          220423 non-null  float64\n",
      " 179 pct_mrdcple_hhd_acs_09_13         220423 non-null  float64\n",
      " 180 pct_not_mrdcple_hhd_cen_2010      220423 non-null  float64\n",
      " 181 pct_not_mrdcple_hhd_acs_09_13     220423 non-null  float64\n",
      " 182 pct_female_no_hb_cen_2010         220423 non-null  float64\n",
      " 183 pct_female_no_hb_acs_09_13        220423 non-null  float64\n",
      " 184 pct_nonfamily_hhd_cen_2010        220423 non-null  float64\n",
      " 185 pct_nonfamily_hhd_acs_09_13       220423 non-null  float64\n",
      " 186 pct_sngl_prns_hhd_cen_2010        220423 non-null  float64\n",
      " 187 pct_sngl_prns_hhd_acs_09_13       220423 non-null  float64\n",
      " 188 pct_hhd_ppl_und_18_cen_2010       220423 non-null  float64\n",
      " 189 pct_hhd_ppl_und_18_acs_09_13      220423 non-null  float64\n",
      " 190 avg_tot_prns_in_hhd_cen_2010      220423 non-null  float64\n",
      " 191 avg_tot_prns_in_hhd_acs_09_13     220423 non-null  float64\n",
      " 192 pct_rel_under_6_cen_2010          220423 non-null  float64\n",
      " 193 pct_rel_under_6_acs_09_13         220423 non-null  float64\n",
      " 194 pct_hhd_moved_in_acs_09_13        220423 non-null  float64\n",
      " 195 pct_pub_asst_inc_acs_09_13        220423 non-null  float64\n",
      " 196 avg_agg_hh_inc_acs_09_13          220423 non-null  float64\n",
      " 197 pct_tot_occp_units_cen_2010       220423 non-null  float64\n",
      " 198 pct_tot_occp_units_acs_09_13      220423 non-null  float64\n",
      " 199 pct_vacant_units_cen_2010         220423 non-null  float64\n",
      " 200 pct_vacant_units_acs_09_13        220423 non-null  float64\n",
      " 201 pct_renter_occp_hu_cen_2010       220423 non-null  float64\n",
      " 202 pct_renter_occp_hu_acs_09_13      220423 non-null  float64\n",
      " 203 pct_owner_occp_hu_cen_2010        220423 non-null  float64\n",
      " 204 pct_owner_occp_hu_acs_09_13       220423 non-null  float64\n",
      " 205 pct_single_unit_acs_09_13         220423 non-null  float64\n",
      " 206 pct_mlt_u2_9_strc_acs_09_13       220423 non-null  float64\n",
      " 207 pct_mlt_u10p_acs_09_13            220423 non-null  float64\n",
      " 208 pct_mobile_homes_acs_09_13        220423 non-null  float64\n",
      " 209 pct_crowd_occp_u_acs_09_13        220423 non-null  float64\n",
      " 210 pct_no_ph_srvc_acs_09_13          220423 non-null  float64\n",
      " 211 pct_no_plumb_acs_09_13            220423 non-null  float64\n",
      " 212 pct_recent_built_hu_acs_09_13     220423 non-null  float64\n",
      " 213 avg_agg_house_value_acs_09_13     220423 non-null  float64\n",
      " 214 pct_tea_mailoutmailback_cen_2010  220423 non-null  float64\n",
      " 215 pct_tea_update_leave_cen_2010     220423 non-null  float64\n",
      " 216 pct_census_mail_returns_cen_2010  220423 non-null  float64\n",
      " 217 pct_vacant_cen_2010               220423 non-null  float64\n",
      " 218 pct_deletes_cen_2010              220423 non-null  float64\n",
      " 219 pct_census_uaa_cen_2010           220423 non-null  float64\n",
      " 220 pct_mailback_count_cen_2010       220423 non-null  float64\n",
      " 221 pct_frst_frms_cen_2010            220423 non-null  float64\n",
      " 222 pct_rplcmnt_frms_cen_2010         220423 non-null  float64\n",
      " 223 pct_bilq_mailout_count_cen_2010   220423 non-null  float64\n",
      " 224 has_superfund                     220423 non-null  float64\n",
      " 225 fips_full                         220423 non-null  float64\n",
      " 226 address                           220423 non-null  object \n",
      " 227 city                              220423 non-null  object \n",
      " 228 date_added                        220423 non-null  object \n",
      " 229 federal_facility_ind              220423 non-null  object \n",
      " 230 federal_register_url              220423 non-null  object \n",
      " 231 geocode_source                    220423 non-null  object \n",
      " 232 latitude                          220423 non-null  float64\n",
      " 233 longitude                         220423 non-null  float64\n",
      " 234 site_epa_id                       220423 non-null  object \n",
      " 235 site_name                         220423 non-null  object \n",
      " 236 site_narrative_url                220423 non-null  object \n",
      " 237 site_progress_url                 220423 non-null  object \n",
      " 238 site_score                        220423 non-null  float64\n",
      " 239 site_text                         220423 non-null  object \n",
      "dtypes: float64(226), int64(1), object(13)\n",
      "memory usage: 405.3+ MB\n"
     ]
    }
   ],
   "source": [
    "clean_merged_df.info(verbose = True, null_counts = True)"
   ]
  },
  {
   "cell_type": "markdown",
   "metadata": {},
   "source": [
    "# Export the Merged Data"
   ]
  },
  {
   "cell_type": "code",
   "execution_count": 11,
   "metadata": {},
   "outputs": [],
   "source": [
    "# Export to csv\n",
    "clean_merged_df.to_csv(merged_data_csv, index = False)"
   ]
  },
  {
   "cell_type": "code",
   "execution_count": 12,
   "metadata": {},
   "outputs": [],
   "source": [
    "# # Export to flat json\n",
    "# clean_merged_df.to_json(merged_data_json, orient='records')"
   ]
  }
 ],
 "metadata": {
  "kernelspec": {
   "display_name": "Python 3",
   "language": "python",
   "name": "python3"
  },
  "language_info": {
   "codemirror_mode": {
    "name": "ipython",
    "version": 3
   },
   "file_extension": ".py",
   "mimetype": "text/x-python",
   "name": "python",
   "nbconvert_exporter": "python",
   "pygments_lexer": "ipython3",
   "version": "3.7.7"
  }
 },
 "nbformat": 4,
 "nbformat_minor": 4
}
